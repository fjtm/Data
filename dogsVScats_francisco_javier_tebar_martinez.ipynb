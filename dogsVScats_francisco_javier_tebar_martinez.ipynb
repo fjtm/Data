{
  "nbformat": 4,
  "nbformat_minor": 0,
  "metadata": {
    "colab": {
      "name": "dogsVScats_francisco_javier_tebar_martinez.ipynb",
      "version": "0.3.2",
      "provenance": [],
      "collapsed_sections": [],
      "toc_visible": true,
      "include_colab_link": true
    },
    "language_info": {
      "codemirror_mode": {
        "name": "ipython",
        "version": 3
      },
      "file_extension": ".py",
      "mimetype": "text/x-python",
      "name": "python",
      "nbconvert_exporter": "python",
      "pygments_lexer": "ipython3",
      "version": "3.6.8"
    },
    "kernelspec": {
      "name": "python3",
      "display_name": "Python 3"
    },
    "accelerator": "GPU"
  },
  "cells": [
    {
      "cell_type": "markdown",
      "metadata": {
        "id": "view-in-github",
        "colab_type": "text"
      },
      "source": [
        "<a href=\"https://colab.research.google.com/github/fjtm/Data/blob/master/dogsVScats_francisco_javier_tebar_martinez.ipynb\" target=\"_parent\"><img src=\"https://colab.research.google.com/assets/colab-badge.svg\" alt=\"Open In Colab\"/></a>"
      ]
    },
    {
      "metadata": {
        "id": "56IzE31Et5Y0",
        "colab_type": "text"
      },
      "cell_type": "markdown",
      "source": [
        "Comentarios profesor:\n",
        "\n",
        "Utilizar accuracy. \n",
        "\n",
        "Parecido a Random Forest.\n",
        "\n",
        "Primer bloque tratamiento de los datos. Cargar y tratar las imágenes (resize...), cada imagen tiene un tamaño diferente. \n",
        "Escalar las imágnes, montar el tensor, normalizar a (-0.5, 0.5). No pintar la versión normalizada. \n",
        "\n",
        "Random suffle para mezclar perros y gatos. \n",
        "\n",
        "Modelo básico. \n",
        "\n",
        "Conseguir almenos un 60% de accuracy\n",
        "\n",
        "Para mejorar el modelo (opcional).\n",
        "\n",
        "Earlystopping (recomendable).\n",
        "\n",
        "Gridsearch (sin gpu no hacerlo). \n",
        "\n",
        "Tecnicas de aumentación de datos (recomendable).\n",
        "\n",
        "\n",
        "Al final un informe, diciendo lo que hemos probado y que da...\n",
        "\n",
        "\n",
        "Empezar con imágnes pequeñas y luego ir subiendo. "
      ]
    },
    {
      "metadata": {
        "id": "naepRFp_9O7d",
        "colab_type": "code",
        "colab": {}
      },
      "cell_type": "code",
      "source": [
        ""
      ],
      "execution_count": 0,
      "outputs": []
    },
    {
      "metadata": {
        "id": "Ruv0TscI9Q3r",
        "colab_type": "text"
      },
      "cell_type": "markdown",
      "source": [
        ""
      ]
    },
    {
      "metadata": {
        "id": "hsh_hv9K_fSY",
        "colab_type": "code",
        "colab": {}
      },
      "cell_type": "code",
      "source": [
        ""
      ],
      "execution_count": 0,
      "outputs": []
    },
    {
      "metadata": {
        "nbgrader": {
          "grade": false,
          "locked": false,
          "solution": false
        },
        "id": "34bondXTt5Y2",
        "colab_type": "text"
      },
      "cell_type": "markdown",
      "source": [
        "# Lab assignment: dogs VS cats"
      ]
    },
    {
      "metadata": {
        "nbgrader": {
          "grade": false,
          "locked": false,
          "solution": false
        },
        "id": "7eTpe7YLt5Y3",
        "colab_type": "text"
      },
      "cell_type": "markdown",
      "source": [
        "<table><tr>\n",
        "    <td><img src=\"https://raw.githubusercontent.com/fjtm/Data/master/img/doge.jpg\"   height=\"400\" width=\"400\"></td>\n",
        "    <td><img src=\"https://raw.githubusercontent.com/fjtm/Data/master/img/cat.jpg\" height=\"400\" width=\"400\"></td>\n",
        "</tr></table>"
      ]
    },
    {
      "metadata": {
        "nbgrader": {
          "grade": false,
          "locked": false,
          "solution": false
        },
        "id": "TGFNYe7Ut5Y4",
        "colab_type": "text"
      },
      "cell_type": "markdown",
      "source": [
        "In this assignment we will face an image classification problem, trying to tell apart images of dogs and images of cats. The final battle begins! And to do so we will use a Deep Learning approach."
      ]
    },
    {
      "metadata": {
        "nbgrader": {
          "grade": false,
          "locked": false,
          "solution": false
        },
        "id": "OjVUnHZut5Y4",
        "colab_type": "text"
      },
      "cell_type": "markdown",
      "source": [
        "## Guidelines"
      ]
    },
    {
      "metadata": {
        "id": "Fem1mYIGt5Y5",
        "colab_type": "text"
      },
      "cell_type": "markdown",
      "source": [
        "Throughout this notebook you will find empty cells that you will need to fill with your own code. Follow the instructions in the notebook and pay special attention to the following symbols.\n",
        "\n",
        "<img src=\"https://raw.githubusercontent.com/fjtm/Data/master/img/question.png\" height=\"80\" width=\"80\" style=\"float: right;\"/>\n",
        "\n",
        "***\n",
        "\n",
        "<font color=#ad3e26>\n",
        "You will need to solve a question by writing your own code or answer in the cell immediately below or in a different file, as instructed.</font>\n",
        "\n",
        "***"
      ]
    },
    {
      "metadata": {
        "id": "Z6H02C1Qt5Y6",
        "colab_type": "text"
      },
      "cell_type": "markdown",
      "source": [
        "<img src=\"https://raw.githubusercontent.com/fjtm/Data/master/img/exclamation.png\" height=\"80\" width=\"80\" style=\"float: right;\"/>\n",
        "\n",
        "***\n",
        "<font color=#2655ad>\n",
        "This is a hint or useful observation that can help you solve this assignment. You should pay attention to these hints to better understand the assignment.\n",
        "</font>\n",
        "\n",
        "***"
      ]
    },
    {
      "metadata": {
        "id": "m4nU5GyHt5Y7",
        "colab_type": "text"
      },
      "cell_type": "markdown",
      "source": [
        "<img src=\"https://raw.githubusercontent.com/fjtm/Data/master/img/pro.png\" height=\"80\" width=\"80\" style=\"float: right;\"/>\n",
        "\n",
        "***\n",
        "<font color=#259b4c>\n",
        "This is an advanced exercise that can help you gain a deeper knowledge into the topic. Good luck!</font>\n",
        "\n",
        "***"
      ]
    },
    {
      "metadata": {
        "id": "otdL3Y5Nt5Y8",
        "colab_type": "text"
      },
      "cell_type": "markdown",
      "source": [
        "To avoid missing packages and compatibility issues you should run this notebook under one of the [recommended Deep Learning environment files](https://github.com/albarji/teaching-environments/tree/master/deeplearning)."
      ]
    },
    {
      "metadata": {
        "id": "BaH1pzXHt5Y8",
        "colab_type": "text"
      },
      "cell_type": "markdown",
      "source": [
        "The following code will embed any plots into the notebook instead of generating a new window:"
      ]
    },
    {
      "metadata": {
        "id": "Ovwzecsgt5Y9",
        "colab_type": "code",
        "colab": {}
      },
      "cell_type": "code",
      "source": [
        "import matplotlib.pyplot as plt\n",
        "%matplotlib inline"
      ],
      "execution_count": 0,
      "outputs": []
    },
    {
      "metadata": {
        "id": "ZRIBuKiVt5ZB",
        "colab_type": "text"
      },
      "cell_type": "markdown",
      "source": [
        "Lastly, if you need any help on the usage of a Python function you can place the writing cursor over its name and press Caps+Shift to produce a pop-out with related documentation. This will only work inside code cells. \n",
        "\n",
        "Let's go!"
      ]
    },
    {
      "metadata": {
        "id": "eAKEeFNyI4gv",
        "colab_type": "code",
        "colab": {
          "base_uri": "https://localhost:8080/",
          "height": 34
        },
        "outputId": "a62589b1-4169-482d-84f3-b5f48390e6f7"
      },
      "cell_type": "code",
      "source": [
        "import glob\n",
        "from skimage.transform import resize\n",
        "from skimage.io import imread\n",
        "import numpy as np\n",
        "import pandas as pd\n",
        "\n",
        "from keras.models import Sequential\n",
        "from keras.layers.core import Dense\n",
        "from keras.layers.core import Activation\n",
        "from keras.layers.core import Dropout\n",
        "from keras.callbacks import EarlyStopping\n",
        "from keras.layers.convolutional import Convolution2D, MaxPooling2D\n",
        "from keras.layers.core import Flatten\n",
        "from keras.preprocessing.image import ImageDataGenerator\n",
        "from sklearn.model_selection import GridSearchCV\n",
        "import time\n",
        "from keras.wrappers.scikit_learn import KerasClassifier\n",
        "\n",
        "from keras.layers import Input\n",
        "from keras.models import Model\n",
        "from keras.applications import vgg16"
      ],
      "execution_count": 3,
      "outputs": [
        {
          "output_type": "stream",
          "text": [
            "Using TensorFlow backend.\n"
          ],
          "name": "stderr"
        }
      ]
    },
    {
      "metadata": {
        "id": "418KGRWP9FSJ",
        "colab_type": "text"
      },
      "cell_type": "markdown",
      "source": [
        "**Creamos una carpeta en el directorio actual con los datos de la práctica almacenados en github (Este proceso es un poco lento pero permite ejecutar el notebook tanto en local, como en google colab). Si bien, si no se trabaja con google colab y  se disponen de los datos, recomiendo crear una carpeta de nombre Data en el directorio actual con los datos de train y test para mayor velocidad, en vez de clonar el repositorio de github.** "
      ]
    },
    {
      "metadata": {
        "id": "7rygooxq8_Iv",
        "colab_type": "code",
        "colab": {
          "base_uri": "https://localhost:8080/",
          "height": 151
        },
        "outputId": "70ef0865-e41b-40eb-f43d-0d7d149bd004"
      },
      "cell_type": "code",
      "source": [
        "!git clone --recursive https://github.com/fjtm/Data.git"
      ],
      "execution_count": 4,
      "outputs": [
        {
          "output_type": "stream",
          "text": [
            "Cloning into 'Data'...\n",
            "remote: Enumerating objects: 24, done.\u001b[K\n",
            "remote: Counting objects: 100% (24/24), done.\u001b[K\n",
            "remote: Compressing objects: 100% (20/20), done.\u001b[K\n",
            "remote: Total 25035 (delta 6), reused 20 (delta 4), pack-reused 25011\u001b[K\n",
            "Receiving objects: 100% (25035/25035), 612.60 MiB | 46.91 MiB/s, done.\n",
            "Resolving deltas: 100% (9/9), done.\n",
            "Checking out files: 100% (25010/25010), done.\n"
          ],
          "name": "stdout"
        }
      ]
    },
    {
      "metadata": {
        "id": "52WU1svit5ZC",
        "colab_type": "text"
      },
      "cell_type": "markdown",
      "source": [
        "## Data processing"
      ]
    },
    {
      "metadata": {
        "id": "IS_0m_Cet5ZD",
        "colab_type": "text"
      },
      "cell_type": "markdown",
      "source": [
        "The images to use in this assignment are available [here](https://drive.google.com/open?id=105jGDrjEgxx2W2gYhFF8Mbf1J9qJeDPm). Download the data package and extract it into a folder in your computer."
      ]
    },
    {
      "metadata": {
        "id": "51F2Nouyt5ZD",
        "colab_type": "text"
      },
      "cell_type": "markdown",
      "source": [
        "Data is structured under two folders, *train* and *test*. You are only allowed to use the *test* data to measure the performance of your model **after** you have finished training. Both *train* and *test* folders contain one subfolder per class (*cats* and *dogs*)."
      ]
    },
    {
      "metadata": {
        "id": "wGrB5aPXt5ZE",
        "colab_type": "text"
      },
      "cell_type": "markdown",
      "source": [
        "The recommended way to load an image from disk is to use the *imread* function from the *scikit-image* library. For example:"
      ]
    },
    {
      "metadata": {
        "id": "TrFQA15Yt5ZF",
        "colab_type": "code",
        "colab": {}
      },
      "cell_type": "code",
      "source": [
        "image = imread(\"Data/img/sample.jpg\")"
      ],
      "execution_count": 0,
      "outputs": []
    },
    {
      "metadata": {
        "id": "9a3tgxwqt5ZI",
        "colab_type": "text"
      },
      "cell_type": "markdown",
      "source": [
        "This returns the image as 3-dimensional numpy matrix, containing the value of intensity of every pixel in each row, column and color channel."
      ]
    },
    {
      "metadata": {
        "id": "TXWfqsuBt5ZJ",
        "colab_type": "code",
        "colab": {
          "base_uri": "https://localhost:8080/",
          "height": 34
        },
        "outputId": "17547477-e358-4b29-b4ac-151bb1a6e4d9"
      },
      "cell_type": "code",
      "source": [
        "image.shape"
      ],
      "execution_count": 6,
      "outputs": [
        {
          "output_type": "execute_result",
          "data": {
            "text/plain": [
              "(499, 367, 3)"
            ]
          },
          "metadata": {
            "tags": []
          },
          "execution_count": 6
        }
      ]
    },
    {
      "metadata": {
        "id": "V8Xg7Rgnt5ZO",
        "colab_type": "text"
      },
      "cell_type": "markdown",
      "source": [
        "We can visualize the loaded image using"
      ]
    },
    {
      "metadata": {
        "id": "zhKZXO_Qt5ZP",
        "colab_type": "code",
        "colab": {
          "base_uri": "https://localhost:8080/",
          "height": 286
        },
        "outputId": "8741003a-d30c-4128-e33d-656bc54e9450"
      },
      "cell_type": "code",
      "source": [
        "plt.imshow(image)"
      ],
      "execution_count": 7,
      "outputs": [
        {
          "output_type": "execute_result",
          "data": {
            "text/plain": [
              "<matplotlib.image.AxesImage at 0x7fc46ec35940>"
            ]
          },
          "metadata": {
            "tags": []
          },
          "execution_count": 7
        },
        {
          "output_type": "display_data",
          "data": {
            "image/png": "[encoded data removed]",
            "text/plain": [
              "<Figure size 432x288 with 1 Axes>"
            ]
          },
          "metadata": {
            "tags": []
          }
        }
      ]
    },
    {
      "metadata": {
        "id": "0UPbwNsbt5ZT",
        "colab_type": "text"
      },
      "cell_type": "markdown",
      "source": [
        "The dataset includes 20000 training images and 5000 test images, each image at a different resolution. Loading all this data at once requires too much memory, so we will need to **resize** each image to a smaller, common size as we load them from disk. We can do so by again making use of a *scikit-image* function. For example:"
      ]
    },
    {
      "metadata": {
        "id": "O_qmbx_wt5ZU",
        "colab_type": "code",
        "colab": {
          "base_uri": "https://localhost:8080/",
          "height": 339
        },
        "outputId": "899537cd-0827-4038-c4ee-c6901a6a99b4"
      },
      "cell_type": "code",
      "source": [
        "size = 64\n",
        "smallimage = resize(image, (64, 64, 3), mode=\"reflect\")  # 64 x 64 pixels, 3 color channels\n",
        "plt.imshow(smallimage)"
      ],
      "execution_count": 8,
      "outputs": [
        {
          "output_type": "stream",
          "text": [
            "/usr/local/lib/python3.6/dist-packages/skimage/transform/_warps.py:110: UserWarning: Anti-aliasing will be enabled by default in skimage 0.15 to avoid aliasing artifacts when down-sampling images.\n",
            "  warn(\"Anti-aliasing will be enabled by default in skimage 0.15 to \"\n"
          ],
          "name": "stderr"
        },
        {
          "output_type": "execute_result",
          "data": {
            "text/plain": [
              "<matplotlib.image.AxesImage at 0x7fc46d351b38>"
            ]
          },
          "metadata": {
            "tags": []
          },
          "execution_count": 8
        },
        {
          "output_type": "display_data",
          "data": {
            "image/png": "[encoded data removed]",
            "text/plain": [
              "<Figure size 432x288 with 1 Axes>"
            ]
          },
          "metadata": {
            "tags": []
          }
        }
      ]
    },
    {
      "metadata": {
        "id": "8VBlef9xt5ZY",
        "colab_type": "text"
      },
      "cell_type": "markdown",
      "source": [
        "\n",
        "<img src=\"https://raw.githubusercontent.com/fjtm/Data/master/img/question.png\" height=\"80\" width=\"80\" style=\"float: right;\"/>\n",
        "\n",
        "***\n",
        "\n",
        "<font color=#ad3e26>\n",
        "    \n",
        "Perform the following tasks to prepare the data:\n",
        "- Build a numpy array *X_train* containing one entry for each training image in the data. Each entry must contain the 3-dimensional matrix of pixels corresponding to an image. Make sure to scale down each image to a common size\n",
        "- Normalize *X_train* so that pixels follow a distribution lying in the range [-0.5,0.5]\n",
        "- Build a corresponding array *Y_train* with the class of each training image (0 for cats and 1 for dogs).\n",
        "- Randomly shuffle the data. Make sure you shuffle both *X_train* and *Y_train* using the same permutation, so you don't lose track of the class of each training pattern.\n",
        "\n",
        "- Repeat the whole procedure again to generate *X_test* and *Y_test* matrices for the test data.\n",
        "</font>\n",
        "\n",
        "***"
      ]
    },
    {
      "metadata": {
        "id": "Cc2kxupAt5ZZ",
        "colab_type": "text"
      },
      "cell_type": "markdown",
      "source": [
        "<img src=\"https://raw.githubusercontent.com/fjtm/Data/master/img/exclamation.png\" height=\"80\" width=\"80\" style=\"float: right;\"/>\n",
        "\n",
        "***\n",
        "<font color=#2655ad>\n",
        "- Take advantage of the *glob* package to generate the filename lists for the indoor and outdoor subfolders.\n",
        "- Since you need to repeat the procedure both for training and test data, it would be useful to implement a function that performs all the data loading and transforming steps.\n",
        "</font>\n",
        "\n",
        "***"
      ]
    },
    {
      "metadata": {
        "id": "76JK3j_CHcdY",
        "colab_type": "text"
      },
      "cell_type": "markdown",
      "source": [
        "Creamos una función que tomando una imagen la reescala, creando un cubo de datos con el tamaño de la imagen (filas y columnas) y el número de canales. (tamaño de las filas, tamaño de las columnas, canales (RGB)). Además desplazamos la distribución de pixeles originales entre $[0,1]$ a $[-0.5,0.5]$."
      ]
    },
    {
      "metadata": {
        "id": "atGBj81Qt5Zd",
        "colab_type": "code",
        "colab": {}
      },
      "cell_type": "code",
      "source": [
        "def preprocesing(image, size = 64, mode = \"reflect\"):\n",
        "    return(np.array(resize(imread(image), (size, size, 3), mode=mode, anti_aliasing=True)-0.5))"
      ],
      "execution_count": 0,
      "outputs": []
    },
    {
      "metadata": {
        "id": "EFjWFY27t5Zi",
        "colab_type": "code",
        "colab": {
          "base_uri": "https://localhost:8080/",
          "height": 101
        },
        "outputId": "dba1bdf0-06ef-4302-edfc-9d30fc7bd779"
      },
      "cell_type": "code",
      "source": [
        "X_train = []\n",
        "Y_train = []\n",
        "X_test = []\n",
        "Y_test = []\n",
        "\n",
        "print(\"Loading cats train\")\n",
        "for image in glob.glob('Data/train/cats/*.jpg'):\n",
        "    X_train.append(preprocesing(image))\n",
        "    Y_train.append(0)\n",
        "print(\"Loading dogs train\")\n",
        "for image in glob.glob('Data/train/dogs/*.jpg'):\n",
        "    X_train.append(preprocesing(image))\n",
        "    Y_train.append(1)\n",
        "print(\"Loading cats test\")\n",
        "for image in glob.glob('Data/test/cats/*.jpg'):\n",
        "    X_test.append(preprocesing(image))\n",
        "    Y_test.append(0)\n",
        "print(\"Loading dogs test\")\n",
        "for image in glob.glob('Data/test/dogs/*.jpg'):\n",
        "    X_test.append(preprocesing(image))\n",
        "    Y_test.append(1)\n",
        "print(\"Complete\")"
      ],
      "execution_count": 10,
      "outputs": [
        {
          "output_type": "stream",
          "text": [
            "Loading cats train\n",
            "Loading dogs train\n",
            "Loading cats test\n",
            "Loading dogs test\n",
            "Complete\n"
          ],
          "name": "stdout"
        }
      ]
    },
    {
      "metadata": {
        "id": "NTRIlCRht5Zm",
        "colab_type": "text"
      },
      "cell_type": "markdown",
      "source": [
        "If everything has been properly loaded both X_train and Y_train lists should have equal length, and the same should happen for the pair X_test and Y_test."
      ]
    },
    {
      "metadata": {
        "id": "LgN-Ww5wt5Zn",
        "colab_type": "code",
        "colab": {
          "base_uri": "https://localhost:8080/",
          "height": 84
        },
        "outputId": "d1b511a7-8b88-4cbb-d01d-04ff9e2aebfb"
      },
      "cell_type": "code",
      "source": [
        "print(\"X_train size\", len(X_train))\n",
        "print(\"Y_train size\", len(Y_train))\n",
        "print(\"X_test size\", len(X_test))\n",
        "print(\"Y_test size\", len(Y_test))"
      ],
      "execution_count": 11,
      "outputs": [
        {
          "output_type": "stream",
          "text": [
            "X_train size 20000\n",
            "Y_train size 20000\n",
            "X_test size 5000\n",
            "Y_test size 5000\n"
          ],
          "name": "stdout"
        }
      ]
    },
    {
      "metadata": {
        "id": "PrBEC5N5t5Zq",
        "colab_type": "text"
      },
      "cell_type": "markdown",
      "source": [
        "Cambiamos el formato de X_train y X_test a un ndarray con (número de imagenes, 64, 64, 3) y mezclamos las imágenes. En este trabajo no se trabajará con imagenes con mayor resulición ya que sino podemos tener problemas de memoria."
      ]
    },
    {
      "metadata": {
        "id": "7ukVUIDOt5Zs",
        "colab_type": "code",
        "colab": {}
      },
      "cell_type": "code",
      "source": [
        "np.random.seed(12)\n",
        "index_train = np.arange(20000)\n",
        "np.random.shuffle(index_train)\n",
        "index_test = np.arange(5000)\n",
        "np.random.shuffle(index_test)"
      ],
      "execution_count": 0,
      "outputs": []
    },
    {
      "metadata": {
        "id": "nCMW6onXt5Zy",
        "colab_type": "code",
        "colab": {}
      },
      "cell_type": "code",
      "source": [
        "X_train = np.asarray(X_train)[index_train]\n",
        "X_test = np.asarray(X_test)[index_test]\n",
        "Y_train = np.asarray(Y_train)[index_train]\n",
        "Y_test = np.asarray(Y_test)[index_test]"
      ],
      "execution_count": 0,
      "outputs": []
    },
    {
      "metadata": {
        "id": "mOZAhUm6t5Z3",
        "colab_type": "text"
      },
      "cell_type": "markdown",
      "source": [
        "Modificamos las etiquetas creando las categorías.  "
      ]
    },
    {
      "metadata": {
        "id": "H0kyVycMt5Z4",
        "colab_type": "code",
        "colab": {}
      },
      "cell_type": "code",
      "source": [
        "from keras.utils import np_utils"
      ],
      "execution_count": 0,
      "outputs": []
    },
    {
      "metadata": {
        "id": "NitV7mZCt5Z7",
        "colab_type": "code",
        "colab": {}
      },
      "cell_type": "code",
      "source": [
        "Y_train = np_utils.to_categorical(Y_train, 2)\n",
        "Y_test = np_utils.to_categorical(Y_test, 2)"
      ],
      "execution_count": 0,
      "outputs": []
    },
    {
      "metadata": {
        "id": "S9uLs6-5t5Z9",
        "colab_type": "text"
      },
      "cell_type": "markdown",
      "source": [
        "## Basic deep model"
      ]
    },
    {
      "metadata": {
        "id": "NWo1RoOSt5aA",
        "colab_type": "text"
      },
      "cell_type": "markdown",
      "source": [
        "<img src=\"https://raw.githubusercontent.com/fjtm/Data/master/img/question.png\" height=\"80\" width=\"80\" style=\"float: right;\"/>\n",
        "\n",
        "***\n",
        "<font color=#ad3e26>\n",
        "Create a deep network that achieves at least a 60% of accuracy in the test set. Make use of the layers you seem fit for problem. You cannot use the test data for fitting the network, but you can use it to check the final performance of different network architectures, and select the architecture performing best.</font>\n",
        "\n",
        "***"
      ]
    },
    {
      "metadata": {
        "id": "4r3ome-nt5aB",
        "colab_type": "text"
      },
      "cell_type": "markdown",
      "source": [
        "En esta primera parte mostraré algunas de las CNN que he probado y que van aumentando en complejidad hasta la arquitectura elegida:\n",
        "\n",
        "<ol>\n",
        "1. CNN 1:\n",
        "    <br>\n",
        "    <ul>\n",
        "        <li> 32 capas convolucionales con kernels (3,3) (Con función de activación Relu y tratamiento de bordes valid)\n",
        "        <li> Capa de MaxPooling (2,2)\n",
        "        <li> Capa Flatten\n",
        "        <li> Capa Densa con 2 neuronas (Con función de activación sigmoide)\n",
        "    </ul>  \n",
        "2. CNN 2:\n",
        "    <ul>\n",
        "        <li> 32 capas convolucionales con kernels (3,3) (Con función de activación Relu y tratamiento de bordes valid)\n",
        "        <li> Capa de MaxPooling (2,2)\n",
        "        <li> Capa Flatten\n",
        "        <li> Capa densa con 64 neuronas (Con función de activación Relu) y dropout (0.5)\n",
        "        <li> Capa densa con 2 neuronas (Con función de activación sigmoide)\n",
        "    </ul>\n",
        "3. CNN 3:\n",
        "    <ul>\n",
        "        <li> 32 capas convolucionales con kernels (3,3) (Con función de activación Relu y tratamiento de bordes valid)\n",
        "        <li> Capa de MaxPooling (2,2)\n",
        "        <li> 64 capas convolucionales con kernels (3,3) (Con función de activación Relu y tratamiento de bordes valid)\n",
        "        <li> Capa de MaxPooling (2,2)\n",
        "        <li> Capa Flatten\n",
        "        <li> Capa densa con 256 neuronas (Con función de activación Relu) y dropout (0.5)\n",
        "        <li> Capa densa con 2 neuronas (Con función de activación sigmoide)\n",
        "    </ul>\n",
        "4. CNN 4: \n",
        "    <ul>\n",
        "        <li> 32 capas convolucionales con kernels (3,3) (Con función de activación Relu y tratamiento de bordes same)\n",
        "        <li> Capa de MaxPooling (2,2)\n",
        "        <li> 64 capas convolucionales con kernels (3,3) (Con función de activación Relu y tratamiento de bordes same)\n",
        "        <li> Capa de MaxPooling (2,2)\n",
        "        <li> 128 capas convolucionales con kernels (3,3) (Con función de activación Relu y tratamiento de bordes same)\n",
        "        <li> Capa de MaxPooling (2,2)\n",
        "        <li> 256 capas convolucionales con kernels (3,3) (Con función de activación Relu y tratamiento de bordes same)\n",
        "        <li> Capa de MaxPooling (2,2)\n",
        "        <li> Capa Flatten\n",
        "        <li> Capa densa con 512 neuronas (Con función de activación Relu) y dropout (0.5)\n",
        "        <li> Capa densa con 2 neuronas (Con función de activación sigmoide)\n",
        "    </ul>\n",
        "5. CNN 5:\n",
        "    <ul>\n",
        "        <li> 32 capas convolucionales con kernels (3,3) (Con función de activación Relu y tratamiento de bordes same)\n",
        "        <li> 32 capas convolucionales con kernels (3,3) (Con función de activación Relu y tratamiento de bordes same)\n",
        "        <li> Capa de MaxPooling (2,2)\n",
        "        <li> 64 capas convolucionales con kernels (3,3) (Con función de activación Relu y tratamiento de bordes same)\n",
        "        <li> 64 capas convolucionales con kernels (3,3) (Con función de activación Relu y tratamiento de bordes same)\n",
        "        <li> Capa de MaxPooling (2,2)\n",
        "        <li> 128 capas convolucionales con kernels (3,3) (Con función de activación Relu y tratamiento de bordes same)\n",
        "        <li> 128 capas convolucionales con kernels (3,3) (Con función de activación Relu y tratamiento de bordes same)\n",
        "        <li> Capa de MaxPooling (2,2)\n",
        "        <li> 256 capas convolucionales con kernels (3,3) (Con función de activación Relu y tratamiento de bordes same)\n",
        "        <li> Capa de MaxPooling (2,2)\n",
        "        <li> Capa Flatten\n",
        "        <li> Capa densa con 512 neuronas (Con función de activación Relu) y dropout (0.5)\n",
        "        <li> Capa densa con 2 neuronas (Con función de activación sigmoide)\n",
        "    </ul>\n",
        "  </ol>"
      ]
    },
    {
      "metadata": {
        "id": "dqmx2yvXt5aC",
        "colab_type": "text"
      },
      "cell_type": "markdown",
      "source": [
        "Antes de utilizar estos modelos es necario tomar algunas consideraciones.\n",
        "<ol>\n",
        "<li> <b>Función de pérdida</b> </li>\n",
        "    <ul>\n",
        "De entre la gran variedad de funciones de pérdida disponibles en keras, he elegido <b>binary crossentropy</b> puesto que tenemos un problema de clasificiación con solamente dos clases. Esta se puede expresar como:\n",
        "\n",
        "$$H_p(q) = -\\frac{1}{N_0 + N_1}[\\sum_{i=1}^{N_0}log(p(y_i)) + \\sum_{i=1}^{N_1}log(p(y_i))]$$\n",
        "con $N_0$ el número de gatos y $N_1$ el número de perros. \n",
        "</ul>\n",
        "<li> <b>Solver de optimización</b> </li>\n",
        "<ul> \n",
        "En este caso utilizaremos el solver de optimización <b>adam</b> ya que funciona bien para problemas con muchos datos y/o parámetros.\n",
        "</ul>\n",
        "<li> <b>Número de epochs</b> </li>\n",
        "<ul>    \n",
        "Designa el número de veces que la red neuronal utilizará todos los datos de entrenamiento para actualizar los pesos. En este caso, de manera un poco manual considero que unas <b>10</b> o <b>20</b> epochs son suficientes. \n",
        "</ul>\n",
        "<li> <b>Tamaño del batch</b> </li>\n",
        "<ul>   \n",
        "Designa el tamaño del subconjunto de datos tomados de train para actualizar los parámetros. En este caso utilizaremos <b>128</b>, lo que equivale sobre nuestro dataset de 20000 imágenes de entrenamiento a unas 150 imágnes. \n",
        "</ul>\n",
        "<li> <b>Métrica</b> </li>\n",
        "<ul>\n",
        "Puesto que tenemos un problema con las clases perfectamente balanceadas podemos utilizar una métrica simple como es <b>accuracy</b>. \n",
        "</ol>"
      ]
    },
    {
      "metadata": {
        "id": "XXvaoGpNt5aD",
        "colab_type": "text"
      },
      "cell_type": "markdown",
      "source": [
        "## CNN 1"
      ]
    },
    {
      "metadata": {
        "id": "Lr9V4gm5t5aE",
        "colab_type": "text"
      },
      "cell_type": "markdown",
      "source": [
        "Creamos la arquitectura del modelo y lo compilamos con el solver anterior y la función de perdida anterior. "
      ]
    },
    {
      "metadata": {
        "id": "wvPO6r4Gt5aE",
        "colab_type": "code",
        "colab": {
          "base_uri": "https://localhost:8080/",
          "height": 87
        },
        "outputId": "4b1a242a-e014-4495-ce3a-051ebb225668"
      },
      "cell_type": "code",
      "source": [
        "img_rows = 64 # Tamaño de la imagen de entrada (Filas)\n",
        "img_cols = 64 # Tamaño de la imagen de entrada (Columnas)\n",
        "kernel_size = 3 # Tamaño del kernel de convolución\n",
        "pool_size = 2 # Tamaño de la región de pulido\n",
        "\n",
        "model = Sequential()\n",
        "\n",
        "model.add(Convolution2D(32, (kernel_size, kernel_size), padding='valid', input_shape=(img_rows, img_cols, 3)))\n",
        "model.add(Activation(\"relu\"))\n",
        "model.add(MaxPooling2D(pool_size=(pool_size, pool_size)))\n",
        "\n",
        "model.add(Flatten())\n",
        "\n",
        "model.add(Dense(2,activation='sigmoid'))\n",
        "\n",
        "model.compile(loss='binary_crossentropy', optimizer='adam', metrics=['accuracy'])"
      ],
      "execution_count": 16,
      "outputs": [
        {
          "output_type": "stream",
          "text": [
            "WARNING:tensorflow:From /usr/local/lib/python3.6/dist-packages/tensorflow/python/framework/op_def_library.py:263: colocate_with (from tensorflow.python.framework.ops) is deprecated and will be removed in a future version.\n",
            "Instructions for updating:\n",
            "Colocations handled automatically by placer.\n"
          ],
          "name": "stdout"
        }
      ]
    },
    {
      "metadata": {
        "id": "FJMmnbDWt5aH",
        "colab_type": "text"
      },
      "cell_type": "markdown",
      "source": [
        "Entrenamos la red con el tamaño del batch y el número de epochs"
      ]
    },
    {
      "metadata": {
        "id": "m7bCClF0t5aI",
        "colab_type": "code",
        "colab": {
          "base_uri": "https://localhost:8080/",
          "height": 776
        },
        "outputId": "5ccf4c8b-5e33-4ae2-9f76-f435bab53dcd"
      },
      "cell_type": "code",
      "source": [
        "model.fit(\n",
        "    X_train, \n",
        "    Y_train, \n",
        "    batch_size=128, \n",
        "    epochs=20, \n",
        "    verbose=2 \n",
        ")"
      ],
      "execution_count": 17,
      "outputs": [
        {
          "output_type": "stream",
          "text": [
            "WARNING:tensorflow:From /usr/local/lib/python3.6/dist-packages/tensorflow/python/ops/math_ops.py:3066: to_int32 (from tensorflow.python.ops.math_ops) is deprecated and will be removed in a future version.\n",
            "Instructions for updating:\n",
            "Use tf.cast instead.\n",
            "Epoch 1/20\n",
            " - 7s - loss: 0.6151 - acc: 0.6618\n",
            "Epoch 2/20\n",
            " - 2s - loss: 0.5562 - acc: 0.7201\n",
            "Epoch 3/20\n",
            " - 2s - loss: 0.5118 - acc: 0.7564\n",
            "Epoch 4/20\n",
            " - 2s - loss: 0.4892 - acc: 0.7704\n",
            "Epoch 5/20\n",
            " - 2s - loss: 0.4676 - acc: 0.7835\n",
            "Epoch 6/20\n",
            " - 2s - loss: 0.4547 - acc: 0.7944\n",
            "Epoch 7/20\n",
            " - 2s - loss: 0.4379 - acc: 0.7987\n",
            "Epoch 8/20\n",
            " - 2s - loss: 0.4241 - acc: 0.8098\n",
            "Epoch 9/20\n",
            " - 2s - loss: 0.4142 - acc: 0.8137\n",
            "Epoch 10/20\n",
            " - 2s - loss: 0.4077 - acc: 0.8182\n",
            "Epoch 11/20\n",
            " - 2s - loss: 0.3963 - acc: 0.8243\n",
            "Epoch 12/20\n",
            " - 2s - loss: 0.3878 - acc: 0.8304\n",
            "Epoch 13/20\n",
            " - 2s - loss: 0.3784 - acc: 0.8366\n",
            "Epoch 14/20\n",
            " - 2s - loss: 0.3700 - acc: 0.8401\n",
            "Epoch 15/20\n",
            " - 2s - loss: 0.3633 - acc: 0.8422\n",
            "Epoch 16/20\n",
            " - 2s - loss: 0.3558 - acc: 0.8504\n",
            "Epoch 17/20\n",
            " - 2s - loss: 0.3493 - acc: 0.8519\n",
            "Epoch 18/20\n",
            " - 2s - loss: 0.3425 - acc: 0.8557\n",
            "Epoch 19/20\n",
            " - 2s - loss: 0.3367 - acc: 0.8594\n",
            "Epoch 20/20\n",
            " - 2s - loss: 0.3283 - acc: 0.8632\n"
          ],
          "name": "stdout"
        },
        {
          "output_type": "execute_result",
          "data": {
            "text/plain": [
              "<keras.callbacks.History at 0x7fc4c54cdc18>"
            ]
          },
          "metadata": {
            "tags": []
          },
          "execution_count": 17
        }
      ]
    },
    {
      "metadata": {
        "id": "8bWPFZDUt5aL",
        "colab_type": "text"
      },
      "cell_type": "markdown",
      "source": [
        "Vemos la actuación del modelo sobre los datos de test."
      ]
    },
    {
      "metadata": {
        "id": "8C_wCxknt5aM",
        "colab_type": "code",
        "colab": {
          "base_uri": "https://localhost:8080/",
          "height": 67
        },
        "outputId": "669bb620-30cf-41e2-b0b7-b358a7ddce41"
      },
      "cell_type": "code",
      "source": [
        "score = model.evaluate(X_test, Y_test)\n",
        "print(\"Test loss %.4f\" % score[0])\n",
        "print(\"Test accuracy %.4f\" % score[1])"
      ],
      "execution_count": 18,
      "outputs": [
        {
          "output_type": "stream",
          "text": [
            "5000/5000 [==============================] - 1s 130us/step\n",
            "Test loss 0.4996\n",
            "Test accuracy 0.7723\n"
          ],
          "name": "stdout"
        }
      ]
    },
    {
      "metadata": {
        "id": "a1WGaiSct5aP",
        "colab_type": "text"
      },
      "cell_type": "markdown",
      "source": [
        "Con este modelo bastante simple conseguimos un accuracy mayor del 70%"
      ]
    },
    {
      "metadata": {
        "id": "IUvb1Pzxt5aQ",
        "colab_type": "text"
      },
      "cell_type": "markdown",
      "source": [
        "## CNN 2"
      ]
    },
    {
      "metadata": {
        "id": "YpO7FRqIt5aR",
        "colab_type": "text"
      },
      "cell_type": "markdown",
      "source": [
        "Estudiemos los resultados con la segunda arquitectura considerada."
      ]
    },
    {
      "metadata": {
        "id": "aJJCSRoJt5aR",
        "colab_type": "code",
        "colab": {
          "base_uri": "https://localhost:8080/",
          "height": 87
        },
        "outputId": "9f58845a-504a-4c76-efc8-970f063b7a28"
      },
      "cell_type": "code",
      "source": [
        "img_rows = 64 # Tamaño de la imagen de entrada (Filas)\n",
        "img_cols = 64 # Tamaño de la imagen de entrada (Columnas)\n",
        "kernel_size = 3 # Tamaño del kernel de convolución\n",
        "pool_size = 2 # Tamaño de la región de pulido\n",
        "\n",
        "model = Sequential()\n",
        "\n",
        "model.add(Convolution2D(32, (kernel_size, kernel_size), padding='valid', input_shape=(img_rows, img_cols, 3)))\n",
        "model.add(Activation(\"relu\"))\n",
        "model.add(MaxPooling2D(pool_size=(pool_size, pool_size)))\n",
        "\n",
        "model.add(Flatten())\n",
        "\n",
        "model.add(Dense(16))\n",
        "model.add(Activation(\"relu\"))\n",
        "model.add(Dropout(0.5))\n",
        "\n",
        "model.add(Dense(2,activation='sigmoid'))\n",
        "\n",
        "model.compile(loss='binary_crossentropy', optimizer='adam', metrics=['accuracy'])"
      ],
      "execution_count": 19,
      "outputs": [
        {
          "output_type": "stream",
          "text": [
            "WARNING:tensorflow:From /usr/local/lib/python3.6/dist-packages/keras/backend/tensorflow_backend.py:3445: calling dropout (from tensorflow.python.ops.nn_ops) with keep_prob is deprecated and will be removed in a future version.\n",
            "Instructions for updating:\n",
            "Please use `rate` instead of `keep_prob`. Rate should be set to `rate = 1 - keep_prob`.\n"
          ],
          "name": "stdout"
        }
      ]
    },
    {
      "metadata": {
        "id": "h0nsoJnKt5aT",
        "colab_type": "code",
        "colab": {
          "base_uri": "https://localhost:8080/",
          "height": 706
        },
        "outputId": "69376e8d-c73a-4af9-9cb7-96362275cf22"
      },
      "cell_type": "code",
      "source": [
        "model.fit(\n",
        "    X_train, \n",
        "    Y_train, \n",
        "    batch_size=128, \n",
        "    epochs=20, \n",
        "    verbose=2 \n",
        ")"
      ],
      "execution_count": 20,
      "outputs": [
        {
          "output_type": "stream",
          "text": [
            "Epoch 1/20\n",
            " - 3s - loss: 0.6705 - acc: 0.5587\n",
            "Epoch 2/20\n",
            " - 2s - loss: 0.6368 - acc: 0.5948\n",
            "Epoch 3/20\n",
            " - 2s - loss: 0.6212 - acc: 0.6026\n",
            "Epoch 4/20\n",
            " - 2s - loss: 0.6088 - acc: 0.6157\n",
            "Epoch 5/20\n",
            " - 2s - loss: 0.5998 - acc: 0.6181\n",
            "Epoch 6/20\n",
            " - 2s - loss: 0.5885 - acc: 0.6253\n",
            "Epoch 7/20\n",
            " - 2s - loss: 0.5804 - acc: 0.6279\n",
            "Epoch 8/20\n",
            " - 2s - loss: 0.5698 - acc: 0.6334\n",
            "Epoch 9/20\n",
            " - 2s - loss: 0.5621 - acc: 0.6370\n",
            "Epoch 10/20\n",
            " - 2s - loss: 0.5586 - acc: 0.6408\n",
            "Epoch 11/20\n",
            " - 2s - loss: 0.5544 - acc: 0.6421\n",
            "Epoch 12/20\n",
            " - 2s - loss: 0.5486 - acc: 0.6485\n",
            "Epoch 13/20\n",
            " - 2s - loss: 0.5370 - acc: 0.6555\n",
            "Epoch 14/20\n",
            " - 2s - loss: 0.5364 - acc: 0.6583\n",
            "Epoch 15/20\n",
            " - 2s - loss: 0.5348 - acc: 0.6538\n",
            "Epoch 16/20\n",
            " - 2s - loss: 0.5268 - acc: 0.6572\n",
            "Epoch 17/20\n",
            " - 2s - loss: 0.5206 - acc: 0.6603\n",
            "Epoch 18/20\n",
            " - 2s - loss: 0.5138 - acc: 0.6654\n",
            "Epoch 19/20\n",
            " - 2s - loss: 0.5117 - acc: 0.6805\n",
            "Epoch 20/20\n",
            " - 2s - loss: 0.4951 - acc: 0.7077\n"
          ],
          "name": "stdout"
        },
        {
          "output_type": "execute_result",
          "data": {
            "text/plain": [
              "<keras.callbacks.History at 0x7fc46c706e80>"
            ]
          },
          "metadata": {
            "tags": []
          },
          "execution_count": 20
        }
      ]
    },
    {
      "metadata": {
        "id": "2W-RR8wLt5aW",
        "colab_type": "code",
        "colab": {
          "base_uri": "https://localhost:8080/",
          "height": 67
        },
        "outputId": "da98129a-145c-4e9a-ff77-eb58eec52239"
      },
      "cell_type": "code",
      "source": [
        "score = model.evaluate(X_test, Y_test)\n",
        "print(\"Test loss %.4f\" % score[0])\n",
        "print(\"Test accuracy %.4f\" % score[1])"
      ],
      "execution_count": 21,
      "outputs": [
        {
          "output_type": "stream",
          "text": [
            "5000/5000 [==============================] - 1s 123us/step\n",
            "Test loss 0.4811\n",
            "Test accuracy 0.7623\n"
          ],
          "name": "stdout"
        }
      ]
    },
    {
      "metadata": {
        "id": "0pMTk8-Gt5aZ",
        "colab_type": "text"
      },
      "cell_type": "markdown",
      "source": [
        "Tenemos un resultado similar al del modelo anterior."
      ]
    },
    {
      "metadata": {
        "id": "xyiWYkG8t5ab",
        "colab_type": "text"
      },
      "cell_type": "markdown",
      "source": [
        "## CNN 3"
      ]
    },
    {
      "metadata": {
        "id": "6iKCbI1qt5ac",
        "colab_type": "code",
        "colab": {}
      },
      "cell_type": "code",
      "source": [
        "img_rows = 64 # Tamaño de la imagen de entrada (Filas)\n",
        "img_cols = 64 # Tamaño de la imagen de entrada (Columnas)\n",
        "kernel_size = 3 # Tamaño del kernel de convolución\n",
        "pool_size = 2 # Tamaño de la región de pulido\n",
        "\n",
        "model = Sequential()\n",
        "\n",
        "model.add(Convolution2D(32, (kernel_size, kernel_size), padding='valid', input_shape=(img_rows, img_cols, 3)))\n",
        "model.add(Activation(\"relu\"))\n",
        "model.add(MaxPooling2D(pool_size=(pool_size, pool_size)))\n",
        "\n",
        "model.add(Convolution2D(64, (kernel_size, kernel_size), padding='valid'))\n",
        "model.add(Activation(\"relu\"))\n",
        "model.add(MaxPooling2D(pool_size=(pool_size, pool_size)))\n",
        "\n",
        "model.add(Flatten())\n",
        "\n",
        "model.add(Dense(256))\n",
        "model.add(Activation(\"relu\"))\n",
        "model.add(Dropout(0.5))\n",
        "\n",
        "model.add(Dense(2,activation='sigmoid'))\n",
        "\n",
        "model.compile(loss='binary_crossentropy', optimizer='adam', metrics=['accuracy'])"
      ],
      "execution_count": 0,
      "outputs": []
    },
    {
      "metadata": {
        "id": "ya5DTSCBt5af",
        "colab_type": "code",
        "colab": {
          "base_uri": "https://localhost:8080/",
          "height": 706
        },
        "outputId": "68da6ce3-ce2a-454d-fe6b-39cebb7d4dd0"
      },
      "cell_type": "code",
      "source": [
        "model.fit(\n",
        "    X_train, \n",
        "    Y_train, \n",
        "    batch_size=128, \n",
        "    epochs=20, \n",
        "    verbose=2 \n",
        ")"
      ],
      "execution_count": 23,
      "outputs": [
        {
          "output_type": "stream",
          "text": [
            "Epoch 1/20\n",
            " - 4s - loss: 0.6067 - acc: 0.6613\n",
            "Epoch 2/20\n",
            " - 3s - loss: 0.4975 - acc: 0.7601\n",
            "Epoch 3/20\n",
            " - 3s - loss: 0.4498 - acc: 0.7912\n",
            "Epoch 4/20\n",
            " - 3s - loss: 0.4067 - acc: 0.8145\n",
            "Epoch 5/20\n",
            " - 3s - loss: 0.3711 - acc: 0.8356\n",
            "Epoch 6/20\n",
            " - 3s - loss: 0.3304 - acc: 0.8574\n",
            "Epoch 7/20\n",
            " - 3s - loss: 0.2859 - acc: 0.8800\n",
            "Epoch 8/20\n",
            " - 3s - loss: 0.2412 - acc: 0.9015\n",
            "Epoch 9/20\n",
            " - 3s - loss: 0.2076 - acc: 0.9153\n",
            "Epoch 10/20\n",
            " - 3s - loss: 0.1611 - acc: 0.9383\n",
            "Epoch 11/20\n",
            " - 3s - loss: 0.1296 - acc: 0.9514\n",
            "Epoch 12/20\n",
            " - 3s - loss: 0.1010 - acc: 0.9649\n",
            "Epoch 13/20\n",
            " - 3s - loss: 0.0836 - acc: 0.9709\n",
            "Epoch 14/20\n",
            " - 3s - loss: 0.0740 - acc: 0.9752\n",
            "Epoch 15/20\n",
            " - 3s - loss: 0.0573 - acc: 0.9821\n",
            "Epoch 16/20\n",
            " - 3s - loss: 0.0463 - acc: 0.9861\n",
            "Epoch 17/20\n",
            " - 3s - loss: 0.0400 - acc: 0.9879\n",
            "Epoch 18/20\n",
            " - 3s - loss: 0.0365 - acc: 0.9883\n",
            "Epoch 19/20\n",
            " - 3s - loss: 0.0325 - acc: 0.9899\n",
            "Epoch 20/20\n",
            " - 3s - loss: 0.0274 - acc: 0.9916\n"
          ],
          "name": "stdout"
        },
        {
          "output_type": "execute_result",
          "data": {
            "text/plain": [
              "<keras.callbacks.History at 0x7fc4601733c8>"
            ]
          },
          "metadata": {
            "tags": []
          },
          "execution_count": 23
        }
      ]
    },
    {
      "metadata": {
        "id": "5OPTlY_7t5an",
        "colab_type": "code",
        "colab": {
          "base_uri": "https://localhost:8080/",
          "height": 67
        },
        "outputId": "df3f1c48-fd93-4725-d974-865b0b72ba42"
      },
      "cell_type": "code",
      "source": [
        "score = model.evaluate(X_test, Y_test)\n",
        "print(\"Test loss %.4f\" % score[0])\n",
        "print(\"Test accuracy %.4f\" % score[1])"
      ],
      "execution_count": 24,
      "outputs": [
        {
          "output_type": "stream",
          "text": [
            "5000/5000 [==============================] - 1s 135us/step\n",
            "Test loss 0.7564\n",
            "Test accuracy 0.8187\n"
          ],
          "name": "stdout"
        }
      ]
    },
    {
      "metadata": {
        "id": "RaRZf_2pt5aq",
        "colab_type": "text"
      },
      "cell_type": "markdown",
      "source": [
        "En este caso conseguimos superar el 80% de accuracy. Sin embargo, si vemos el accuracy durante el entrenamiento, el modelo está realizando un claro overfit. "
      ]
    },
    {
      "metadata": {
        "id": "94xThEg3t5aq",
        "colab_type": "text"
      },
      "cell_type": "markdown",
      "source": [
        "## CNN 4"
      ]
    },
    {
      "metadata": {
        "id": "C_kYU4D4t5ar",
        "colab_type": "text"
      },
      "cell_type": "markdown",
      "source": [
        "Notese que en este caso utilizamos el enfoque *same* ya que al utilizar tantas capas de MaxPooling necesitamos preservar que el tamaño de la imagen tras pasar las capas de convolución sea razonable.  "
      ]
    },
    {
      "metadata": {
        "id": "P7dSTq-Qt5as",
        "colab_type": "code",
        "colab": {}
      },
      "cell_type": "code",
      "source": [
        "img_rows = 64 # Tamaño de la imagen de entrada (Filas)\n",
        "img_cols = 64 # Tamaño de la imagen de entrada (Columnas)\n",
        "kernel_size = 3 # Tamaño del kernel de convolución\n",
        "pool_size = 2 # Tamaño de la región de pulido\n",
        "\n",
        "model = Sequential()\n",
        "\n",
        "model.add(Convolution2D(32, (kernel_size, kernel_size), padding='same', input_shape=(img_rows, img_cols, 3)))\n",
        "model.add(Activation(\"relu\"))\n",
        "model.add(MaxPooling2D(pool_size=(pool_size, pool_size)))\n",
        "\n",
        "model.add(Convolution2D(64, (kernel_size, kernel_size), padding='same'))\n",
        "model.add(Activation(\"relu\"))\n",
        "model.add(MaxPooling2D(pool_size=(pool_size, pool_size)))\n",
        "\n",
        "model.add(Convolution2D(128, (kernel_size, kernel_size), padding='same'))\n",
        "model.add(Activation(\"relu\"))\n",
        "model.add(MaxPooling2D(pool_size=(pool_size, pool_size)))\n",
        "\n",
        "model.add(Convolution2D(256, (kernel_size, kernel_size), padding='same'))\n",
        "model.add(Activation(\"relu\"))\n",
        "model.add(MaxPooling2D(pool_size=(pool_size, pool_size)))\n",
        "\n",
        "model.add(Flatten())\n",
        "\n",
        "model.add(Dense(512))\n",
        "model.add(Activation(\"relu\"))\n",
        "model.add(Dropout(0.5))\n",
        "\n",
        "model.add(Dense(2,activation='sigmoid'))\n",
        "\n",
        "model.compile(loss='binary_crossentropy', optimizer='adam', metrics=['accuracy'])"
      ],
      "execution_count": 0,
      "outputs": []
    },
    {
      "metadata": {
        "id": "SPDKsYi2t5av",
        "colab_type": "code",
        "colab": {
          "base_uri": "https://localhost:8080/",
          "height": 370
        },
        "outputId": "36e89057-f3ee-436f-a019-36e2f14255a7"
      },
      "cell_type": "code",
      "source": [
        "model.fit(\n",
        "    X_train, \n",
        "    Y_train, \n",
        "    batch_size=128, \n",
        "    epochs=10, \n",
        "    verbose=2 \n",
        ")"
      ],
      "execution_count": 26,
      "outputs": [
        {
          "output_type": "stream",
          "text": [
            "Epoch 1/10\n",
            " - 5s - loss: 0.6247 - acc: 0.6390\n",
            "Epoch 2/10\n",
            " - 4s - loss: 0.4998 - acc: 0.7584\n",
            "Epoch 3/10\n",
            " - 4s - loss: 0.4118 - acc: 0.8126\n",
            "Epoch 4/10\n",
            " - 4s - loss: 0.3439 - acc: 0.8482\n",
            "Epoch 5/10\n",
            " - 4s - loss: 0.2965 - acc: 0.8716\n",
            "Epoch 6/10\n",
            " - 4s - loss: 0.2437 - acc: 0.8964\n",
            "Epoch 7/10\n",
            " - 4s - loss: 0.1950 - acc: 0.9222\n",
            "Epoch 8/10\n",
            " - 4s - loss: 0.1371 - acc: 0.9470\n",
            "Epoch 9/10\n",
            " - 4s - loss: 0.1037 - acc: 0.9605\n",
            "Epoch 10/10\n",
            " - 4s - loss: 0.0696 - acc: 0.9739\n"
          ],
          "name": "stdout"
        },
        {
          "output_type": "execute_result",
          "data": {
            "text/plain": [
              "<keras.callbacks.History at 0x7fc43fb63470>"
            ]
          },
          "metadata": {
            "tags": []
          },
          "execution_count": 26
        }
      ]
    },
    {
      "metadata": {
        "id": "4IZIBpHzt5a1",
        "colab_type": "code",
        "colab": {
          "base_uri": "https://localhost:8080/",
          "height": 67
        },
        "outputId": "86d86f10-afac-46f0-98e2-c39398a8e8af"
      },
      "cell_type": "code",
      "source": [
        "score = model.evaluate(X_test, Y_test)\n",
        "print(\"Test loss %.4f\" % score[0])\n",
        "print(\"Test accuracy %.4f\" % score[1])"
      ],
      "execution_count": 27,
      "outputs": [
        {
          "output_type": "stream",
          "text": [
            "5000/5000 [==============================] - 1s 174us/step\n",
            "Test loss 0.4469\n",
            "Test accuracy 0.8635\n"
          ],
          "name": "stdout"
        }
      ]
    },
    {
      "metadata": {
        "id": "MpOJcqQ6t5a6",
        "colab_type": "text"
      },
      "cell_type": "markdown",
      "source": [
        "Mejoramos el resultado anterior pero claramente la red sigue haciendo overfitting. "
      ]
    },
    {
      "metadata": {
        "id": "5tm-v92rt5a8",
        "colab_type": "text"
      },
      "cell_type": "markdown",
      "source": [
        "## CNN 5"
      ]
    },
    {
      "metadata": {
        "id": "242DBxvbt5a-",
        "colab_type": "code",
        "colab": {}
      },
      "cell_type": "code",
      "source": [
        "img_rows = 64 # Tamaño de la imagen de entrada (Filas)\n",
        "img_cols = 64 # Tamaño de la imagen de entrada (Columnas)\n",
        "kernel_size = 3 # Tamaño del kernel de convolución\n",
        "pool_size = 2 # Tamaño de la región de pulido\n",
        "\n",
        "model = Sequential()\n",
        "\n",
        "model.add(Convolution2D(32, (kernel_size, kernel_size), padding='same', input_shape=(img_rows, img_cols, 3)))\n",
        "model.add(Activation(\"relu\"))\n",
        "model.add(Convolution2D(32, (kernel_size, kernel_size), padding='same'))\n",
        "model.add(Activation(\"relu\"))\n",
        "model.add(MaxPooling2D(pool_size=(pool_size, pool_size)))\n",
        "\n",
        "model.add(Convolution2D(64, (kernel_size, kernel_size), padding='same'))\n",
        "model.add(Activation(\"relu\"))\n",
        "model.add(Convolution2D(64, (kernel_size, kernel_size), padding='same'))\n",
        "model.add(Activation(\"relu\"))\n",
        "model.add(MaxPooling2D(pool_size=(pool_size, pool_size)))\n",
        "\n",
        "model.add(Convolution2D(128, (kernel_size, kernel_size), padding='same'))\n",
        "model.add(Activation(\"relu\"))\n",
        "model.add(Convolution2D(128, (kernel_size, kernel_size), padding='same'))\n",
        "model.add(Activation(\"relu\"))\n",
        "model.add(MaxPooling2D(pool_size=(pool_size, pool_size)))\n",
        "\n",
        "model.add(Convolution2D(256, (kernel_size, kernel_size), padding='same'))\n",
        "model.add(Activation(\"relu\"))\n",
        "model.add(MaxPooling2D(pool_size=(pool_size, pool_size)))\n",
        "\n",
        "model.add(Flatten())\n",
        "\n",
        "model.add(Dense(512))\n",
        "model.add(Activation(\"relu\"))\n",
        "model.add(Dropout(0.5))\n",
        "\n",
        "model.add(Dense(2,activation='sigmoid'))\n",
        "\n",
        "model.compile(loss='binary_crossentropy', optimizer='adam', metrics=['accuracy'])"
      ],
      "execution_count": 0,
      "outputs": []
    },
    {
      "metadata": {
        "id": "ctXfx-Gpt5bB",
        "colab_type": "code",
        "colab": {
          "base_uri": "https://localhost:8080/",
          "height": 370
        },
        "outputId": "896b5923-7601-4d35-99e2-4f255a3d5be6"
      },
      "cell_type": "code",
      "source": [
        "model.fit(\n",
        "    X_train, \n",
        "    Y_train, \n",
        "    batch_size=128, \n",
        "    epochs=10, \n",
        "    verbose=2 \n",
        ")"
      ],
      "execution_count": 29,
      "outputs": [
        {
          "output_type": "stream",
          "text": [
            "Epoch 1/10\n",
            " - 9s - loss: 0.6503 - acc: 0.6002\n",
            "Epoch 2/10\n",
            " - 8s - loss: 0.5501 - acc: 0.7236\n",
            "Epoch 3/10\n",
            " - 8s - loss: 0.4539 - acc: 0.7909\n",
            "Epoch 4/10\n",
            " - 8s - loss: 0.3613 - acc: 0.8401\n",
            "Epoch 5/10\n",
            " - 8s - loss: 0.3051 - acc: 0.8702\n",
            "Epoch 6/10\n",
            " - 8s - loss: 0.2568 - acc: 0.8925\n",
            "Epoch 7/10\n",
            " - 8s - loss: 0.2188 - acc: 0.9097\n",
            "Epoch 8/10\n",
            " - 8s - loss: 0.1786 - acc: 0.9267\n",
            "Epoch 9/10\n",
            " - 8s - loss: 0.1516 - acc: 0.9408\n",
            "Epoch 10/10\n",
            " - 8s - loss: 0.1300 - acc: 0.9476\n"
          ],
          "name": "stdout"
        },
        {
          "output_type": "execute_result",
          "data": {
            "text/plain": [
              "<keras.callbacks.History at 0x7fc43f3957f0>"
            ]
          },
          "metadata": {
            "tags": []
          },
          "execution_count": 29
        }
      ]
    },
    {
      "metadata": {
        "id": "4QXeXFIPt5bH",
        "colab_type": "code",
        "colab": {
          "base_uri": "https://localhost:8080/",
          "height": 67
        },
        "outputId": "44d28f22-3823-45ee-8080-28db65a78960"
      },
      "cell_type": "code",
      "source": [
        "score = model.evaluate(X_test, Y_test)\n",
        "print(\"Test loss %.4f\" % score[0])\n",
        "print(\"Test accuracy %.4f\" % score[1])"
      ],
      "execution_count": 30,
      "outputs": [
        {
          "output_type": "stream",
          "text": [
            "5000/5000 [==============================] - 1s 236us/step\n",
            "Test loss 0.2928\n",
            "Test accuracy 0.8926\n"
          ],
          "name": "stdout"
        }
      ]
    },
    {
      "metadata": {
        "id": "sCuYD5TTt5bK",
        "colab_type": "text"
      },
      "cell_type": "markdown",
      "source": [
        "Obtenemos el mejor resultado hasta al momento llegando casi al 90% de acierto. En este caso aunque la red sigue haciendo overfitting este no es tan pronunciado como las CNN anteriores. Así, quedemonos con esta arquitectura. "
      ]
    },
    {
      "metadata": {
        "id": "nnZXwKz5t5bL",
        "colab_type": "text"
      },
      "cell_type": "markdown",
      "source": [
        "<img src=\"https://raw.githubusercontent.com/fjtm/Data/master/img/exclamation.png\" height=\"80\" width=\"80\" style=\"float: right;\"/>\n",
        "\n",
        "***\n",
        "<font color=#2655ad>\n",
        "    \n",
        "If you are unable to attain the required 60% of accuracy, or your accuracy is too close to 100%, review the following checklist:\n",
        "- Have you mixed training and test data?\n",
        "- Have the values of the pixels been normalized?\n",
        "- Have you compiled the model with a loss function appropriate for **binary** classification?\n",
        "- Have you used ReLU units in the hidden layers? Have you used sigmoid or softmax layers in the output layer?\n",
        "\n",
        "***"
      ]
    },
    {
      "metadata": {
        "id": "V2f10y2Rt5bM",
        "colab_type": "text"
      },
      "cell_type": "markdown",
      "source": [
        "## Improving the network"
      ]
    },
    {
      "metadata": {
        "id": "25_Ql0slt5bM",
        "colab_type": "text"
      },
      "cell_type": "markdown",
      "source": [
        "<img src=\"https://raw.githubusercontent.com/fjtm/Data/master/img/pro.png\" height=\"80\" width=\"80\" style=\"float: right;\"/>\n",
        "\n",
        "***\n",
        "\n",
        "<font color=#259b4c>\n",
        "    \n",
        "You can further improve your results by applying one or more of the following strategies:\n",
        "<li>\n",
        "Keep apart a portion of the training data as a **validation set**. Then use an <a href=\"https://keras.io/callbacks/#earlystopping\">**EarlyStopping strategy**</a> to monitor the loss of these validation data, and stop when training when after a number of iterations such loss has not decreased.\n",
        "<li>\n",
        "Make use of **metamodelling techniques** to select the best architecture parameters for the networks. You can use scikit-learn methods GridSearchCV or RandomSearchCV. You can do those by using the <a href=\"https://keras.io/scikit-learn-api/\">KerasClassifier</a> wrapper. Even better, you can mix KerasClassifier with an advanced search method such as [BayesSearch](https://scikit-optimize.github.io/#skopt.BayesSearchCV), included in the [scikit-optimize](https://scikit-optimize.github.io/) library.\n",
        "<li>\n",
        "Use **image augmentation techniques** to artifically create new training images. To do so, you can make use of <a href=\"https://keras.io/preprocessing/image/\">ImageDataGenerator</a> in Keras.\n",
        "<li>\n",
        "Make use of a pre-trained large network, building your network on top of it. You can find some examples in the [Keras Applications](https://keras.io/applications/) page.\n",
        "\n",
        "If you correctly use these techniques you should be able to improve your model. With some effort it is possible to up to a 90% test accuracy. Try to do your best!</font>\n",
        "\n",
        "***"
      ]
    },
    {
      "metadata": {
        "id": "ogvrz2Fxt5bN",
        "colab_type": "text"
      },
      "cell_type": "markdown",
      "source": [
        "IMPORTANTE"
      ]
    },
    {
      "metadata": {
        "id": "qRGCEPfvt5bO",
        "colab_type": "text"
      },
      "cell_type": "markdown",
      "source": [
        "Ejecutar esta parte del código sin google colab requiere una gran cantidad de tiempo de entrenamiento. De esta manera, he guardado el modelo creado en el entorno de google colab en github. "
      ]
    },
    {
      "metadata": {
        "id": "LgfCHfHPt5bP",
        "colab_type": "text"
      },
      "cell_type": "markdown",
      "source": [
        "Una vez seleccionada la arquitectura de la red neuronal intentaremos mejorar el rendimiento de esta mediante las técnicas sugeridas. En concreto nos basaremos principalmente en dos de ellas:\n",
        "\n",
        "<ol>\n",
        "<li> <b>EarlyStopping strategy</b> </li>\n",
        "    <ul>\n",
        "Permite detener el entrenamiento si la función de pérdida en el conjunto de validación no decrece durante un cierto número de epochs, en concreto utilizaremos 5 epochs como margen. Puesto que 5 iteraciones pueden llevar a un mayor ovefit sin una mejora en el modelo, utilizaremos el parámetro <b>restore_best_weights</b> el cual devuelve los mejores pesos de las últimas 5 epochs en caso de que la función de perdida no decrezca durante estas iteraciones. Esta es una estrategia muy buena para controlar el overfit en las CNN.\n",
        "</ul>\n",
        "\n",
        "<li> <b>ImageDataGenerator</b> </li>\n",
        "<ul> \n",
        "Esta técnica permite modificar las imagenes de train ligeramente mediante rotaciones, translaciones, zoom... Con esto se logra aumentar cosiderablemente el número de imágenes con las que entrenas el modelo sin necesidad de disponer de imágenes nuevas. \n",
        "</ul>\n",
        "<br>"
      ]
    },
    {
      "metadata": {
        "id": "UcvLuDtmt5bP",
        "colab_type": "text"
      },
      "cell_type": "markdown",
      "source": [
        "Para poder llevar a cabo las técnicas anteriormente comentadas es necesario separar un porcentaje de imágenes que utilizaremos para ir validando el modelo. Así, utilizaremos 2000 imágenes para validar y las 18000 restantes junto con la tecnica de aumentación de imágenes para entrenar la red. "
      ]
    },
    {
      "metadata": {
        "id": "1OVaJN6et5bQ",
        "colab_type": "code",
        "colab": {}
      },
      "cell_type": "code",
      "source": [
        "X_validate = X_train[0:2000]\n",
        "Y_validate = Y_train[0:2000]\n",
        "X_not_validate = X_train[2000:len(X_train)]\n",
        "Y_not_validate = Y_train[2000:len(X_train)]"
      ],
      "execution_count": 0,
      "outputs": []
    },
    {
      "metadata": {
        "id": "Ec5wEJQ_t5bT",
        "colab_type": "text"
      },
      "cell_type": "markdown",
      "source": [
        "Creamos el generador de imágenes."
      ]
    },
    {
      "metadata": {
        "id": "cm_2H7_ct5bT",
        "colab_type": "code",
        "colab": {}
      },
      "cell_type": "code",
      "source": [
        "datagen = ImageDataGenerator(\n",
        "        rotation_range=20,\n",
        "        width_shift_range=0.2,\n",
        "        height_shift_range=0.2,\n",
        "        shear_range=0.2,\n",
        "        zoom_range=0.2,\n",
        "        horizontal_flip=True,\n",
        "        fill_mode='reflect')\n",
        "\n",
        "datagen.fit(X_not_validate)"
      ],
      "execution_count": 0,
      "outputs": []
    },
    {
      "metadata": {
        "id": "XoBU4_WKt5bV",
        "colab_type": "text"
      },
      "cell_type": "markdown",
      "source": [
        "Definimos la arquitectura."
      ]
    },
    {
      "metadata": {
        "id": "o3dLlgZYt5bV",
        "colab_type": "code",
        "colab": {}
      },
      "cell_type": "code",
      "source": [
        "img_rows = 64 # Tamaño de la imagen de entrada (Filas)\n",
        "img_cols = 64 # Tamaño de la imagen de entrada (Columnas)\n",
        "kernel_size = 3 # Tamaño del kernel de convolución\n",
        "pool_size = 2 # Tamaño de la región de pulido\n",
        "\n",
        "model = Sequential()\n",
        "\n",
        "model.add(Convolution2D(32, (kernel_size, kernel_size), padding='same', input_shape=(img_rows, img_cols, 3)))\n",
        "model.add(Activation(\"relu\"))\n",
        "model.add(Convolution2D(32, (kernel_size, kernel_size), padding='same'))\n",
        "model.add(Activation(\"relu\"))\n",
        "model.add(MaxPooling2D(pool_size=(pool_size, pool_size)))\n",
        "\n",
        "model.add(Convolution2D(64, (kernel_size, kernel_size), padding='same'))\n",
        "model.add(Activation(\"relu\"))\n",
        "model.add(Convolution2D(64, (kernel_size, kernel_size), padding='same'))\n",
        "model.add(Activation(\"relu\"))\n",
        "model.add(MaxPooling2D(pool_size=(pool_size, pool_size)))\n",
        "\n",
        "model.add(Convolution2D(128, (kernel_size, kernel_size), padding='same'))\n",
        "model.add(Activation(\"relu\"))\n",
        "model.add(Convolution2D(128, (kernel_size, kernel_size), padding='same'))\n",
        "model.add(Activation(\"relu\"))\n",
        "model.add(MaxPooling2D(pool_size=(pool_size, pool_size)))\n",
        "\n",
        "model.add(Convolution2D(256, (kernel_size, kernel_size), padding='same'))\n",
        "model.add(Activation(\"relu\"))\n",
        "model.add(MaxPooling2D(pool_size=(pool_size, pool_size)))\n",
        "\n",
        "model.add(Flatten())\n",
        "\n",
        "model.add(Dense(512))\n",
        "model.add(Activation(\"relu\"))\n",
        "model.add(Dropout(0.5))\n",
        "\n",
        "model.add(Dense(2,activation='sigmoid'))\n",
        "\n",
        "model.compile(loss='binary_crossentropy', optimizer='adam', metrics=['accuracy'])"
      ],
      "execution_count": 0,
      "outputs": []
    },
    {
      "metadata": {
        "id": "rNWq99UKDHIN",
        "colab_type": "text"
      },
      "cell_type": "markdown",
      "source": [
        "En este caso aumentamos el número de epochs a 100, ya que EarlyStopping detendrá el algoritmo cuando la función de perdida del set de validación no decrezca."
      ]
    },
    {
      "metadata": {
        "id": "hvYfzXYlt5bX",
        "colab_type": "code",
        "colab": {}
      },
      "cell_type": "code",
      "source": [
        "# Ejecutar solamente en google colab o en un entorno con GPU\n",
        "\n",
        "model_final = model.fit_generator(datagen.flow(X_not_validate, Y_not_validate, batch_size=128),\n",
        "                    steps_per_epoch=len(X_not_validate)/128, epochs=100, verbose=0,\n",
        "                    validation_data = (X_validate, Y_validate),\n",
        "                    callbacks=[EarlyStopping(monitor='val_loss', mode='min', verbose=0, patience=10, restore_best_weights=True)] \n",
        ")"
      ],
      "execution_count": 0,
      "outputs": []
    },
    {
      "metadata": {
        "id": "QgTgpLP_deCv",
        "colab_type": "code",
        "colab": {
          "base_uri": "https://localhost:8080/",
          "height": 411
        },
        "outputId": "34f7d8dd-7810-4c6f-f5f6-b16e7462aef7"
      },
      "cell_type": "code",
      "source": [
        "plt.figure(figsize=(14, 6))\n",
        "plt.subplot(121)\n",
        "plt.plot(model_final.history['acc'])\n",
        "plt.plot(model_final.history['val_acc'])\n",
        "plt.title('Model accuracy', fontsize=15)\n",
        "plt.ylabel('accuracy', fontsize=15)\n",
        "plt.xlabel('epoch', fontsize=15)\n",
        "plt.legend(['train', 'validate'], loc='best')\n",
        "\n",
        "plt.subplot(122)\n",
        "plt.plot(model_final.history['loss'])\n",
        "plt.plot(model_final.history['val_loss'])\n",
        "plt.title('Model loss', fontsize=15)\n",
        "plt.ylabel('binary crossentropy', fontsize=15)\n",
        "plt.xlabel('epoch', fontsize=15)\n",
        "plt.legend(['train', 'validate'], loc='best')\n",
        "plt.show()"
      ],
      "execution_count": 91,
      "outputs": [
        {
          "output_type": "display_data",
          "data": {
            "image/png": "[encoded data removed]",
            "text/plain": [
              "<Figure size 1008x432 with 2 Axes>"
            ]
          },
          "metadata": {
            "tags": []
          }
        }
      ]
    },
    {
      "metadata": {
        "id": "u-NqttcBmHG6",
        "colab_type": "code",
        "colab": {
          "base_uri": "https://localhost:8080/",
          "height": 67
        },
        "outputId": "3620535d-7966-458d-c1ac-7170f0621cf9"
      },
      "cell_type": "code",
      "source": [
        "score = model.evaluate(X_test, Y_test)\n",
        "print(\"Test loss %.4f\" % score[0])\n",
        "print(\"Test accuracy %.4f\" % score[1])"
      ],
      "execution_count": 92,
      "outputs": [
        {
          "output_type": "stream",
          "text": [
            "5000/5000 [==============================] - 1s 237us/step\n",
            "Test loss 0.1464\n",
            "Test accuracy 0.9388\n"
          ],
          "name": "stdout"
        }
      ]
    },
    {
      "metadata": {
        "id": "Yhn6BuRXEams",
        "colab_type": "text"
      },
      "cell_type": "markdown",
      "source": [
        "De esta manera utilizando estas técnicas, conseguimos mejorar el accuracy sobre el test entorno al $5$-$6\\%$ con un modelo con la misma arquitectura. "
      ]
    },
    {
      "metadata": {
        "id": "6iWHP7XvFPV0",
        "colab_type": "text"
      },
      "cell_type": "markdown",
      "source": [
        "De las técnias sugeridas he intentado utilizar GridSearchCV para optimizar el número de neuronas por capa o el porcentaje de dropout de las capas densas..., sin embargo si se intenta trabajar con todas las imagenes nos quedamos sin memoria rapidamente. De esta manera utilizo una porción reducida de imagenes (12000) para intentar determinar el porcentaje de dropout óptimo. Realizo este proceso más para ilustrar como combinar GridSearchCV de sklearn con Keras, que para sacar un verdadero beneficio para construir el modelo."
      ]
    },
    {
      "metadata": {
        "id": "PzDJuCgKG3wq",
        "colab_type": "code",
        "colab": {}
      },
      "cell_type": "code",
      "source": [
        "def create_model(dropout_rate=0.0):\n",
        "  \n",
        "  img_rows = 64\n",
        "  img_cols = 64\n",
        "  kernel_size = 3 \n",
        "  pool_size = 2\n",
        "\n",
        "  model_drop = Sequential()\n",
        "\n",
        "  model_drop.add(Convolution2D(32, (kernel_size, kernel_size),\n",
        "                          padding='same', input_shape=(img_rows, img_cols, 3)))\n",
        "  model_drop.add(Activation(\"relu\"))\n",
        "  model_drop.add(Convolution2D(32, (kernel_size, kernel_size),\n",
        "                         padding='same'))\n",
        "  model_drop.add(Activation(\"relu\"))\n",
        "  model_drop.add(MaxPooling2D(pool_size=(pool_size, pool_size)))\n",
        "\n",
        "  model_drop.add(Convolution2D(64, (kernel_size, kernel_size),\n",
        "                         padding='same'))\n",
        "  model_drop.add(Activation(\"relu\"))\n",
        "  model_drop.add(Convolution2D(64, (kernel_size, kernel_size),\n",
        "                         padding='same'))\n",
        "  model_drop.add(Activation(\"relu\"))\n",
        "  model_drop.add(MaxPooling2D(pool_size=(pool_size, pool_size)))\n",
        "\n",
        "  model_drop.add(Convolution2D(128, (kernel_size, kernel_size),\n",
        "                         padding='same'))\n",
        "  model_drop.add(Activation(\"relu\"))\n",
        "  model_drop.add(Convolution2D(128, (kernel_size, kernel_size),\n",
        "                         padding='same'))\n",
        "  model_drop.add(Activation(\"relu\"))\n",
        "  model_drop.add(MaxPooling2D(pool_size=(pool_size, pool_size)))\n",
        "\n",
        "  model_drop.add(Convolution2D(256, (kernel_size, kernel_size),\n",
        "                         padding='same'))\n",
        "  model_drop.add(Activation(\"relu\"))\n",
        "  model_drop.add(MaxPooling2D(pool_size=(pool_size, pool_size)))\n",
        "\n",
        "  model_drop.add(Flatten())\n",
        "  model_drop.add(Dense(512))\n",
        "  model_drop.add(Activation(\"relu\"))\n",
        "  model.add(Dropout(dropout_rate))\n",
        "  model_drop.add(Dense(2))\n",
        "  model_drop.add(Activation(\"sigmoid\"))\n",
        "  \n",
        "  model_drop.compile(loss='binary_crossentropy', optimizer='adam', metrics=['accuracy'])\n",
        "  return model_drop"
      ],
      "execution_count": 0,
      "outputs": []
    },
    {
      "metadata": {
        "id": "87Lgu2hGG-EA",
        "colab_type": "code",
        "colab": {
          "base_uri": "https://localhost:8080/",
          "height": 34
        },
        "outputId": "fff922be-942c-41f7-8b87-80d7d4514e33"
      },
      "cell_type": "code",
      "source": [
        "model_drop = KerasClassifier(build_fn=create_model, epochs=20, batch_size=128, verbose=0)\n",
        "dropout_rate = [0.1,0.5,0.9]\n",
        "param_grid = dict(dropout_rate=dropout_rate)\n",
        "grid = GridSearchCV(estimator=model_drop, param_grid=param_grid, cv = 3)\n",
        "t0 = time.time()\n",
        "grid_result = grid.fit(X_train[0:3000], Y_train[0:3000])\n",
        "print(\"Tiempo de búsqueda:\", np.round((time.time()-t0)/60,1), \"min\")"
      ],
      "execution_count": 56,
      "outputs": [
        {
          "output_type": "stream",
          "text": [
            "Tiempo de búsqueda: 3.3 min\n"
          ],
          "name": "stdout"
        }
      ]
    },
    {
      "metadata": {
        "id": "EpLKeAZyHVPe",
        "colab_type": "code",
        "colab": {
          "base_uri": "https://localhost:8080/",
          "height": 84
        },
        "outputId": "f12089b8-a293-4159-8b83-a75c68b89c70"
      },
      "cell_type": "code",
      "source": [
        "print(\"Best accuracy: %f using %s\" % (grid_result.best_score_, grid_result.best_params_))\n",
        "for mean, stdev, param in zip(grid_result.cv_results_['mean_test_score'],\n",
        "                              grid_result.cv_results_['std_test_score'],\n",
        "                              grid_result.cv_results_['params']):\n",
        "    print(\"Accuracy %f std (%f) con: %r\" % (mean, stdev, param))"
      ],
      "execution_count": 64,
      "outputs": [
        {
          "output_type": "stream",
          "text": [
            "Best accuracy: 0.722667 using {'dropout_rate': 0.5}\n",
            "Accuracy 0.703500 std (0.017354) con: {'dropout_rate': 0.1}\n",
            "Accuracy 0.722667 std (0.007576) con: {'dropout_rate': 0.5}\n",
            "Accuracy 0.646000 std (0.052888) con: {'dropout_rate': 0.9}\n"
          ],
          "name": "stdout"
        }
      ]
    },
    {
      "metadata": {
        "id": "5oABuqvine4u",
        "colab_type": "text"
      },
      "cell_type": "markdown",
      "source": [
        "En este caso para  las tres posibilidades estudiadas, el modelo obtiene los mejores resultados para un dropout de 0.5 como veniamos utilizando hasta ahora.  "
      ]
    },
    {
      "metadata": {
        "id": "11ne-plkRP4e",
        "colab_type": "text"
      },
      "cell_type": "markdown",
      "source": [
        "Llegados a este punto ya tenemos un buen modelo que consigue un accuracy de más del 90%. Probemos ahora a modificar un modelo ya existente para ver si logramos mejorar el resultado.\n",
        "\n",
        "En este caso utilizaremos el modelo VGG16 presentado originalmente en el paper <a href = \"https://arxiv.org/abs/1409.1556\">Very Deep Convolutional Networks for Large-Scale Image Recognition</a> por K. Simonyan and A. Zisserman de la universidad de Oxford. Este presenta la siguiente arquitectura:\n",
        "\n"
      ]
    },
    {
      "metadata": {
        "id": "0FHOvxyCXBrU",
        "colab_type": "text"
      },
      "cell_type": "markdown",
      "source": [
        "<td style=\"height:200px;\">\n",
        "    <table>\n",
        "         <tr>\n",
        "              <td><img src=\"https://raw.githubusercontent.com/fjtm/Data/master/img/vgg16.png\"   height=\"200\" width=\"800\"></td>   \n",
        "         </tr>\n",
        "         <tr>\n",
        "              <td><img src=\"https://raw.githubusercontent.com/fjtm/Data/master/img/vgg16-1-e1542731207177.png\" height=\"400\" width=\"800\"></td>\n",
        "         </tr>\n",
        "    </table>\n",
        "</td>"
      ]
    },
    {
      "metadata": {
        "id": "B5v_bLwKTUv2",
        "colab_type": "text"
      },
      "cell_type": "markdown",
      "source": [
        "En concreto el modelo que podemos importar de keras solamente tiene las capas convolucionales,  y por tanto es necesario crear manualmente las capas densas. Además, este modelo toma imágenes de 226x226 y puesto que por impedimentos de memoria estamos trabajando con imágenes de 64x64, será necesario introducir otra capa inicial para redefinir el tamaño de entrada. \n",
        "\n",
        "Así nuestro modelo seguirá la estructura: \n",
        "\n",
        "<li> Capa de entrada (64,64,3)\n",
        "<li> Estructura convolucional del modelo vvg16\n",
        "<li> Flatten\n",
        "<li> Capa densa de 512 neuronas con activación relu y dropout del 50%.\n",
        "<li> Capa densa de 2 neuronas con activación sigmoide"
      ]
    },
    {
      "metadata": {
        "id": "VdQoRUwjRQOl",
        "colab_type": "code",
        "colab": {
          "base_uri": "https://localhost:8080/",
          "height": 70
        },
        "outputId": "a1c82ab0-d1db-4847-aeff-a1cd685d5207"
      },
      "cell_type": "code",
      "source": [
        "model_vgg16 = vgg16.VGG16(include_top=False, weights='imagenet')\n",
        "\n",
        "input = Input(shape=(64,64,3))\n",
        "model_vgg16_mod = model_vgg16(input)\n",
        "\n",
        "x = Flatten(name='flatten')(model_vgg16_mod)\n",
        "x = Dense(512, activation='relu')(x)\n",
        "x = Dropout(0.5)(x)\n",
        "x = Dense(2, activation='sigmoid')(x)\n",
        " \n",
        "vgg16_tune_model = Model(input=input, output=x)\n",
        "\n",
        "vgg16_tune_model.compile(loss='binary_crossentropy', optimizer='adam', metrics=['accuracy'])"
      ],
      "execution_count": 84,
      "outputs": [
        {
          "output_type": "stream",
          "text": [
            "/usr/local/lib/python3.6/dist-packages/ipykernel_launcher.py:11: UserWarning: Update your `Model` call to the Keras 2 API: `Model(inputs=Tensor(\"in..., outputs=Tensor(\"de...)`\n",
            "  # This is added back by InteractiveShellApp.init_path()\n"
          ],
          "name": "stderr"
        }
      ]
    },
    {
      "metadata": {
        "id": "qFqQIKvoL7Wn",
        "colab_type": "code",
        "colab": {
          "base_uri": "https://localhost:8080/",
          "height": 1226
        },
        "outputId": "849d9328-3d2c-4dd8-8209-90af827692ae"
      },
      "cell_type": "code",
      "source": [
        "# Ejecutar solamente en google colab o en un entorno con GPU\n",
        "\n",
        "vgg16_tune_model_results = vgg16_tune_model.fit_generator(datagen.flow(X_not_validate, Y_not_validate, batch_size=128),\n",
        "                    steps_per_epoch=len(X_not_validate)/128, epochs=100, verbose=2,\n",
        "                    validation_data = (X_validate, Y_validate),\n",
        "                    callbacks=[EarlyStopping(monitor='val_loss', mode='min', verbose=2, patience=10, restore_best_weights=True)] \n",
        ")"
      ],
      "execution_count": 85,
      "outputs": [
        {
          "output_type": "stream",
          "text": [
            "Epoch 1/100\n",
            " - 28s - loss: 0.7099 - acc: 0.5448 - val_loss: 0.6399 - val_acc: 0.6510\n",
            "Epoch 2/100\n",
            " - 24s - loss: 0.6095 - acc: 0.6685 - val_loss: 0.5295 - val_acc: 0.7120\n",
            "Epoch 3/100\n",
            " - 24s - loss: 0.5194 - acc: 0.7481 - val_loss: 0.4048 - val_acc: 0.8223\n",
            "Epoch 4/100\n",
            " - 23s - loss: 0.4520 - acc: 0.7923 - val_loss: 0.3935 - val_acc: 0.8368\n",
            "Epoch 5/100\n",
            " - 23s - loss: 0.4172 - acc: 0.8162 - val_loss: 0.3404 - val_acc: 0.8463\n",
            "Epoch 6/100\n",
            " - 23s - loss: 0.3748 - acc: 0.8349 - val_loss: 0.2972 - val_acc: 0.8723\n",
            "Epoch 7/100\n",
            " - 24s - loss: 0.3459 - acc: 0.8491 - val_loss: 0.2779 - val_acc: 0.8902\n",
            "Epoch 8/100\n",
            " - 23s - loss: 0.3289 - acc: 0.8607 - val_loss: 0.2723 - val_acc: 0.8848\n",
            "Epoch 9/100\n",
            " - 23s - loss: 0.3323 - acc: 0.8551 - val_loss: 0.2438 - val_acc: 0.8983\n",
            "Epoch 10/100\n",
            " - 24s - loss: 0.3215 - acc: 0.8594 - val_loss: 0.2519 - val_acc: 0.8953\n",
            "Epoch 11/100\n",
            " - 23s - loss: 0.2815 - acc: 0.8803 - val_loss: 0.2172 - val_acc: 0.9092\n",
            "Epoch 12/100\n",
            " - 23s - loss: 0.2679 - acc: 0.8871 - val_loss: 0.1950 - val_acc: 0.9223\n",
            "Epoch 13/100\n",
            " - 24s - loss: 0.2624 - acc: 0.8872 - val_loss: 0.2109 - val_acc: 0.9127\n",
            "Epoch 14/100\n",
            " - 23s - loss: 0.3547 - acc: 0.8373 - val_loss: 0.2772 - val_acc: 0.8730\n",
            "Epoch 15/100\n",
            " - 24s - loss: 0.2867 - acc: 0.8790 - val_loss: 0.2207 - val_acc: 0.9083\n",
            "Epoch 16/100\n",
            " - 23s - loss: 0.2518 - acc: 0.8922 - val_loss: 0.2079 - val_acc: 0.9225\n",
            "Epoch 17/100\n",
            " - 24s - loss: 0.2337 - acc: 0.9009 - val_loss: 0.2191 - val_acc: 0.8943\n",
            "Epoch 18/100\n",
            " - 23s - loss: 0.2259 - acc: 0.9052 - val_loss: 0.1837 - val_acc: 0.9250\n",
            "Epoch 19/100\n",
            " - 23s - loss: 0.2212 - acc: 0.9082 - val_loss: 0.2041 - val_acc: 0.9200\n",
            "Epoch 20/100\n",
            " - 24s - loss: 0.2320 - acc: 0.9002 - val_loss: 0.2267 - val_acc: 0.9112\n",
            "Epoch 21/100\n",
            " - 23s - loss: 0.2013 - acc: 0.9154 - val_loss: 0.2161 - val_acc: 0.9015\n",
            "Epoch 22/100\n",
            " - 23s - loss: 0.2010 - acc: 0.9163 - val_loss: 0.1713 - val_acc: 0.9345\n",
            "Epoch 23/100\n",
            " - 23s - loss: 0.1970 - acc: 0.9183 - val_loss: 0.1904 - val_acc: 0.9185\n",
            "Epoch 24/100\n",
            " - 24s - loss: 0.1925 - acc: 0.9212 - val_loss: 0.1766 - val_acc: 0.9317\n",
            "Epoch 25/100\n",
            " - 23s - loss: 0.1813 - acc: 0.9270 - val_loss: 0.1507 - val_acc: 0.9375\n",
            "Epoch 26/100\n",
            " - 23s - loss: 0.1821 - acc: 0.9235 - val_loss: 0.1911 - val_acc: 0.9340\n",
            "Epoch 27/100\n",
            " - 24s - loss: 0.1749 - acc: 0.9259 - val_loss: 0.1803 - val_acc: 0.9350\n",
            "Epoch 28/100\n",
            " - 24s - loss: 0.1713 - acc: 0.9308 - val_loss: 0.1824 - val_acc: 0.9278\n",
            "Epoch 29/100\n",
            " - 23s - loss: 0.1605 - acc: 0.9326 - val_loss: 0.1958 - val_acc: 0.9260\n",
            "Epoch 30/100\n",
            " - 24s - loss: 0.1727 - acc: 0.9293 - val_loss: 0.1534 - val_acc: 0.9355\n",
            "Epoch 31/100\n",
            " - 24s - loss: 0.1697 - acc: 0.9310 - val_loss: 0.1851 - val_acc: 0.9335\n",
            "Epoch 32/100\n",
            " - 23s - loss: 0.1661 - acc: 0.9319 - val_loss: 0.1678 - val_acc: 0.9340\n",
            "Epoch 33/100\n",
            " - 23s - loss: 0.1585 - acc: 0.9353 - val_loss: 0.1706 - val_acc: 0.9357\n",
            "Epoch 34/100\n",
            " - 24s - loss: 0.1629 - acc: 0.9320 - val_loss: 0.1762 - val_acc: 0.9250\n",
            "Epoch 35/100\n",
            " - 23s - loss: 0.1501 - acc: 0.9382 - val_loss: 0.1835 - val_acc: 0.9298\n",
            "Restoring model weights from the end of the best epoch\n",
            "Epoch 00035: early stopping\n"
          ],
          "name": "stdout"
        }
      ]
    },
    {
      "metadata": {
        "id": "kx_7lG-Rohit",
        "colab_type": "code",
        "colab": {
          "base_uri": "https://localhost:8080/",
          "height": 411
        },
        "outputId": "1fb65b9b-41b2-4526-f735-f2f03c72b78b"
      },
      "cell_type": "code",
      "source": [
        "plt.figure(figsize=(14, 6))\n",
        "plt.subplot(121)\n",
        "plt.plot(vgg16_tune_model_results.history['acc'])\n",
        "plt.plot(vgg16_tune_model_results.history['val_acc'])\n",
        "plt.title('Model accuracy', fontsize=15)\n",
        "plt.ylabel('accuracy', fontsize=15)\n",
        "plt.xlabel('epoch', fontsize=15)\n",
        "plt.legend(['train', 'validate'], loc='best')\n",
        "\n",
        "plt.subplot(122)\n",
        "plt.plot(vgg16_tune_model_results.history['loss'])\n",
        "plt.plot(vgg16_tune_model_results.history['val_loss'])\n",
        "plt.title('Model loss', fontsize=15)\n",
        "plt.ylabel('binary crossentropy', fontsize=15)\n",
        "plt.xlabel('epoch', fontsize=15)\n",
        "plt.legend(['train', 'validate'], loc='best')\n",
        "plt.show()"
      ],
      "execution_count": 86,
      "outputs": [
        {
          "output_type": "display_data",
          "data": {
            "image/png": "[encoded data removed]",
            "text/plain": [
              "<Figure size 1008x432 with 2 Axes>"
            ]
          },
          "metadata": {
            "tags": []
          }
        }
      ]
    },
    {
      "metadata": {
        "id": "rfpGkv1ucIXz",
        "colab_type": "code",
        "colab": {
          "base_uri": "https://localhost:8080/",
          "height": 67
        },
        "outputId": "2caa1027-c1c1-44e4-df3c-9f65416e88f9"
      },
      "cell_type": "code",
      "source": [
        "score = vgg16_tune_model.evaluate(X_test, Y_test)\n",
        "print(\"Test loss %.4f\" % score[0])\n",
        "print(\"Test accuracy %.4f\" % score[1])"
      ],
      "execution_count": 88,
      "outputs": [
        {
          "output_type": "stream",
          "text": [
            "5000/5000 [==============================] - 3s 602us/step\n",
            "Test loss 0.1390\n",
            "Test accuracy 0.9373\n"
          ],
          "name": "stdout"
        }
      ]
    },
    {
      "metadata": {
        "id": "vMvNAqaNt5bd",
        "colab_type": "text"
      },
      "cell_type": "markdown",
      "source": [
        "## Analyzing the results"
      ]
    },
    {
      "metadata": {
        "id": "9utSD_3wt5be",
        "colab_type": "text"
      },
      "cell_type": "markdown",
      "source": [
        "<img src=\"https://raw.githubusercontent.com/fjtm/Data/master/img/question.png\" height=\"80\" width=\"80\" style=\"float: right;\"/>\n",
        "\n",
        "***\n",
        "\n",
        "<font color=#ad3e26>\n",
        "Find and show some test images for which your model fails. Can you give an explanation for this behavior?</font>\n",
        "\n",
        "***"
      ]
    },
    {
      "metadata": {
        "id": "bDaR_5m_t5be",
        "colab_type": "code",
        "colab": {}
      },
      "cell_type": "code",
      "source": [
        "####### INSERT YOUR CODE HERE"
      ],
      "execution_count": 0,
      "outputs": []
    },
    {
      "metadata": {
        "id": "wZjRHTJEt5bg",
        "colab_type": "text"
      },
      "cell_type": "markdown",
      "source": [
        "<img src=\"https://raw.githubusercontent.com/fjtm/Data/master/img/question.png\" height=\"80\" width=\"80\" style=\"float: right;\"/>\n",
        "\n",
        "***\n",
        "\n",
        "<font color=#ad3e26>\n",
        "Write a small report summarizing the network choices you have tried, what worked and what didn't. What have you learned from this experience?</font>\n",
        "\n",
        "***"
      ]
    },
    {
      "metadata": {
        "id": "ALO3xEoct5bh",
        "colab_type": "text"
      },
      "cell_type": "markdown",
      "source": [
        "Valid, sin earlystopping ni nada.\n",
        "\n",
        "Con capa densa de 16 neuronas\n",
        "\n",
        "\n",
        "Convolucional 3 (32, 3, 3) (64, 3, 3) (128, 3, 3) un 86.1% batch_size=128\n",
        "\n",
        "\n",
        "Convolucional 1 (32, 3, 3) un 77% de accuracy. Sin capa densa de 16 neuronas batch_size=128\n",
        "\n",
        "Convolucional 2 (32, 3, 3) (32, 3, 3) un 79-80%. Sin capa densa de 16 neuronas batch_size=128\n",
        "\n",
        "Convolucional 2 (32, 3, 3) (64, 3, 3) un 82.42%. Sin capa densa de 16 neuronas batch_size=128\n",
        "\n",
        "Convolucional 3 (32, 3, 3) (64, 3, 3) (128, 3, 3) un 87.8% batch_size=128\n",
        "\n",
        "Convolucional 3 (32, 3, 3) (64, 3, 3) (128, 3, 3) con una red densa 128 neuronas (90% drop out)  88.52% batch_size=128\n",
        "\n",
        "Convolucional 3 (32, 3, 3) (64, 3, 3) (128, 3, 3) con una red densa 256 neuronas (95% drop out)  87.44% batch_size=128\n",
        "\n",
        "Same. No da buenos resultados de momento.\n",
        "\n"
      ]
    }
  ]
}