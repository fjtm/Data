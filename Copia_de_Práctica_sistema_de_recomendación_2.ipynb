{
  "nbformat": 4,
  "nbformat_minor": 0,
  "metadata": {
    "colab": {
      "name": "Copia de Práctica sistema de recomendación 2.ipynb",
      "version": "0.3.2",
      "provenance": [],
      "collapsed_sections": [],
      "include_colab_link": true
    },
    "language_info": {
      "codemirror_mode": {
        "name": "ipython",
        "version": 3
      },
      "file_extension": ".py",
      "mimetype": "text/x-python",
      "name": "python",
      "nbconvert_exporter": "python",
      "pygments_lexer": "ipython3",
      "version": "3.6.5"
    },
    "kernelspec": {
      "display_name": "Python 3",
      "language": "python",
      "name": "python3"
    }
  },
  "cells": [
    {
      "cell_type": "markdown",
      "metadata": {
        "id": "view-in-github",
        "colab_type": "text"
      },
      "source": [
        "<a href=\"https://colab.research.google.com/github/fjtm/Data/blob/master/Copia_de_Pr%C3%A1ctica_sistema_de_recomendaci%C3%B3n_2.ipynb\" target=\"_parent\"><img src=\"https://colab.research.google.com/assets/colab-badge.svg\" alt=\"Open In Colab\"/></a>"
      ]
    },
    {
      "metadata": {
        "id": "q7iH2lPj05JN",
        "colab_type": "text"
      },
      "cell_type": "markdown",
      "source": [
        "ALS necesita que los identificadores sean valores enteros. Hay que hacer un diccionario para poder utilizar el algoritmo ALS. Usar stringindex + pipeline. "
      ]
    },
    {
      "metadata": {
        "id": "d_mGONVO05Ja",
        "colab_type": "text"
      },
      "cell_type": "markdown",
      "source": [
        "Dado el dataset ./datos/lastfm_mini.parquet, se pide:\n",
        "\n",
        "Imprimir por pantalla los 20 artistas que más aparecen. Agrupar por identificar de artista y hacer un sum. \n",
        "\n",
        "Crear un sistema de recomendación basado en el algortimo ALS visto en el notebook 04.ALS_Spark.ipynb\n",
        "\n",
        "Calcular el usuario más a fín a el grupo ramones según nuestro modelo\n",
        "\n",
        "Para el usuario del punto anterior conseguir sus 20 artístas más afin según nuestro modelo\n",
        "\n",
        "Se valorará conseguir un modelo adecuado usando las técnicas vistas en clase"
      ]
    },
    {
      "metadata": {
        "id": "iKD99MC907Iz",
        "colab_type": "code",
        "colab": {}
      },
      "cell_type": "code",
      "source": [
        "!apt-get install openjdk-8-jdk-headless -qq > /dev/null\n",
        "!wget -q https://www-us.apache.org/dist/spark/spark-2.4.1/spark-2.4.1-bin-hadoop2.7.tgz\n",
        "!tar xf spark-2.4.1-bin-hadoop2.7.tgz\n",
        "!pip install -q findspark"
      ],
      "execution_count": 0,
      "outputs": []
    },
    {
      "metadata": {
        "id": "YhJNRkzl07OQ",
        "colab_type": "code",
        "colab": {}
      },
      "cell_type": "code",
      "source": [
        "import os\n",
        "os.environ[\"JAVA_HOME\"] = \"/usr/lib/jvm/java-8-openjdk-amd64\"\n",
        "os.environ[\"SPARK_HOME\"] = \"/content/spark-2.4.1-bin-hadoop2.7\""
      ],
      "execution_count": 0,
      "outputs": []
    },
    {
      "metadata": {
        "id": "D1BMraYo1Yvk",
        "colab_type": "code",
        "colab": {}
      },
      "cell_type": "code",
      "source": [
        "import findspark\n",
        "findspark.init()\n",
        "from pyspark.sql import SparkSession\n",
        "from pyspark import SparkConf\n",
        "sparkSession = SparkSession.builder.master(\"local[*]\").getOrCreate()\n",
        "sparkContext = sparkSession.sparkContext"
      ],
      "execution_count": 0,
      "outputs": []
    },
    {
      "metadata": {
        "id": "8OFMco8Z05Jz",
        "colab_type": "code",
        "colab": {}
      },
      "cell_type": "code",
      "source": [
        "import pandas as pd\n",
        "import numpy as np\n",
        "import pyspark.sql.functions as F"
      ],
      "execution_count": 0,
      "outputs": []
    },
    {
      "metadata": {
        "id": "jaqktmlU2dxG",
        "colab_type": "code",
        "outputId": "adb45c2e-bbcd-4adc-fb3d-ab666a2ac9c9",
        "colab": {
          "base_uri": "https://localhost:8080/",
          "height": 33
        }
      },
      "cell_type": "code",
      "source": [
        "!git clone --recursive https://github.com/fjtm/Sistemas-de-recomendacion.git"
      ],
      "execution_count": 36,
      "outputs": [
        {
          "output_type": "stream",
          "text": [
            "fatal: destination path 'Sistemas-de-recomendacion' already exists and is not an empty directory.\n"
          ],
          "name": "stdout"
        }
      ]
    },
    {
      "metadata": {
        "id": "u9KyCQLm05KA",
        "colab_type": "code",
        "colab": {}
      },
      "cell_type": "code",
      "source": [
        "plays = sparkSession.read.parquet('Sistemas-de-recomendacion/datos/lastfm_mini.parquet')"
      ],
      "execution_count": 0,
      "outputs": []
    },
    {
      "metadata": {
        "id": "aOmQVzUkEL8X",
        "colab_type": "code",
        "outputId": "84aae28c-5ccd-4b2d-9b48-b90a92a35ee8",
        "colab": {
          "base_uri": "https://localhost:8080/",
          "height": 452
        }
      },
      "cell_type": "code",
      "source": [
        "plays.show()"
      ],
      "execution_count": 38,
      "outputs": [
        {
          "output_type": "stream",
          "text": [
            "+--------------------+--------------------+-----------+-----+\n",
            "|             user_id|           artist_id|artist_name|plays|\n",
            "+--------------------+--------------------+-----------+-----+\n",
            "|8358173502fcfd30b...|382f1005-e9ab-468...|       2pac| 54.0|\n",
            "|f434362a46b823536...|382f1005-e9ab-468...|       2pac|545.0|\n",
            "|135750e1a2107ae20...|382f1005-e9ab-468...|       2pac| 54.0|\n",
            "|41a072560f38290a2...|382f1005-e9ab-468...|       2pac|201.0|\n",
            "|57da4f4db6fc10eb7...|382f1005-e9ab-468...|       2pac| 86.0|\n",
            "|3f51326aec6893f15...|382f1005-e9ab-468...|       2pac| 95.0|\n",
            "|ac4f934779afac87b...|382f1005-e9ab-468...|       2pac|163.0|\n",
            "|858ebba231d365236...|382f1005-e9ab-468...|       2pac| 99.0|\n",
            "|24efaa9b0170cda92...|382f1005-e9ab-468...|       2pac| 71.0|\n",
            "|dd5b2d9f5d10d428d...|382f1005-e9ab-468...|       2pac| 18.0|\n",
            "|7550b588c297f6792...|382f1005-e9ab-468...|       2pac| 47.0|\n",
            "|662eee6265ed61f4a...|382f1005-e9ab-468...|       2pac|257.0|\n",
            "|6e7acb2ec69628dc6...|382f1005-e9ab-468...|       2pac|388.0|\n",
            "|45d40681c0d4c0369...|382f1005-e9ab-468...|       2pac|253.0|\n",
            "|f1953ffa668754e75...|382f1005-e9ab-468...|       2pac|266.0|\n",
            "|99138233c799d01ca...|382f1005-e9ab-468...|       2pac|254.0|\n",
            "|9724abe785461da87...|382f1005-e9ab-468...|       2pac| 56.0|\n",
            "|92e15210a455c8c5d...|382f1005-e9ab-468...|       2pac| 28.0|\n",
            "|fc7b7247c5f5c6e19...|382f1005-e9ab-468...|       2pac| 96.0|\n",
            "|ac06a4a3bd8ab5f3b...|382f1005-e9ab-468...|       2pac| 74.0|\n",
            "+--------------------+--------------------+-----------+-----+\n",
            "only showing top 20 rows\n",
            "\n"
          ],
          "name": "stdout"
        }
      ]
    },
    {
      "metadata": {
        "id": "t5XNl8wl05Kg",
        "colab_type": "code",
        "outputId": "edca99a5-3b99-45f4-8b9e-d9a19cec8816",
        "colab": {
          "base_uri": "https://localhost:8080/",
          "height": 452
        }
      },
      "cell_type": "code",
      "source": [
        "plays.groupBy([\"artist_id\",\"artist_name\"]).sum().orderBy(\"sum(plays)\", ascending = False).show(20)"
      ],
      "execution_count": 39,
      "outputs": [
        {
          "output_type": "stream",
          "text": [
            "+--------------------+--------------------+----------+\n",
            "|           artist_id|         artist_name|sum(plays)|\n",
            "+--------------------+--------------------+----------+\n",
            "|b10bbbfc-cf9e-42e...|         the beatles|  878602.0|\n",
            "|a74b1b7f-71a5-401...|           radiohead|  840236.0|\n",
            "|83d91898-7763-47d...|          pink floyd|  492270.0|\n",
            "|cc197bad-dc9c-440...|            coldplay|  489212.0|\n",
            "|65f4f0c5-ef9e-490...|           metallica|  472438.0|\n",
            "|9c9f1380-2516-4fc...|                muse|  449794.0|\n",
            "|8bfac288-ccc5-448...|red hot chili pep...|  413867.0|\n",
            "|b7ffd2af-418f-4be...|     nine inch nails|  402385.0|\n",
            "|cc0b7089-c08d-4c1...|    system of a down|  394673.0|\n",
            "|00a9f935-ba93-4fc...|           nightwish|  384564.0|\n",
            "|f59c5520-5f46-4d2...|         linkin park|  361024.0|\n",
            "|31745282-b1ea-4d6...|           in flames|  351163.0|\n",
            "|0039c7ae-e1a7-4a7...| death cab for cutie|  327846.0|\n",
            "|678d88b2-87b0-403...|        led zeppelin|  304345.0|\n",
            "|847e8284-8582-4b0...|             placebo|  303084.0|\n",
            "|72c536dc-7137-447...|           bob dylan|  302726.0|\n",
            "|b071f9fa-14b0-421...|  the rolling stones|  276854.0|\n",
            "|b2d122f9-eadb-493...|           rammstein|  273125.0|\n",
            "|95e1ead9-4d31-480...|         the killers|  271320.0|\n",
            "|69ee3720-a7cb-440...|            the cure|  266426.0|\n",
            "+--------------------+--------------------+----------+\n",
            "only showing top 20 rows\n",
            "\n"
          ],
          "name": "stdout"
        }
      ]
    },
    {
      "metadata": {
        "id": "WPCJm7zS05Kq",
        "colab_type": "code",
        "colab": {}
      },
      "cell_type": "code",
      "source": [
        "from pyspark.ml.feature import StringIndexer\n",
        "from pyspark.ml.pipeline import Pipeline\n",
        "from pyspark.ml.recommendation import ALS\n",
        "from pyspark.ml.evaluation import RegressionEvaluator"
      ],
      "execution_count": 0,
      "outputs": []
    },
    {
      "metadata": {
        "id": "ukg16Zpw05Kx",
        "colab_type": "code",
        "colab": {}
      },
      "cell_type": "code",
      "source": [
        "indexer_user = StringIndexer(inputCol=\"user_id\", outputCol=\"user_id_index\")\n",
        "indexer_artist = StringIndexer(inputCol=\"artist_id\", outputCol=\"artist_id_index\")"
      ],
      "execution_count": 0,
      "outputs": []
    },
    {
      "metadata": {
        "id": "ipXZnlAa05K4",
        "colab_type": "code",
        "colab": {}
      },
      "cell_type": "code",
      "source": [
        "Model = ALS(\n",
        "\n",
        "    regParam=0.01, #mallado.iloc[0]['regParam'],\n",
        "    maxIter=5, #mallado.iloc[0]['maxIter'],\n",
        "    rank=10, #mallado.iloc[0]['rank'],    \n",
        "    userCol=\"user_id_index\", \n",
        "    itemCol=\"artist_id_index\", \n",
        "    ratingCol=\"plays\",\n",
        "    coldStartStrategy=\"drop\",\n",
        "    implicitPrefs=False,\n",
        "    numUserBlocks=10,\n",
        "    numItemBlocks=10\n",
        "\n",
        ")"
      ],
      "execution_count": 0,
      "outputs": []
    },
    {
      "metadata": {
        "id": "Y_jX4YwT05K_",
        "colab_type": "code",
        "colab": {}
      },
      "cell_type": "code",
      "source": [
        "pipeline = Pipeline(stages=[indexer_user, indexer_artist, Model])"
      ],
      "execution_count": 0,
      "outputs": []
    },
    {
      "metadata": {
        "id": "eTKlBSsl05LK",
        "colab_type": "code",
        "colab": {}
      },
      "cell_type": "code",
      "source": [
        "model_fit = pipeline.fit(plays)"
      ],
      "execution_count": 0,
      "outputs": []
    },
    {
      "metadata": {
        "id": "2muWB2Ck05LR",
        "colab_type": "code",
        "colab": {}
      },
      "cell_type": "code",
      "source": [
        "predictions = model_fit.transform(plays)"
      ],
      "execution_count": 0,
      "outputs": []
    },
    {
      "metadata": {
        "id": "aomso53g05LX",
        "colab_type": "code",
        "outputId": "f01fbc3f-2d8a-44ce-fea2-9a9889a4c02b",
        "colab": {
          "base_uri": "https://localhost:8080/",
          "height": 134
        }
      },
      "cell_type": "code",
      "source": [
        "predictions.dtypes"
      ],
      "execution_count": 46,
      "outputs": [
        {
          "output_type": "execute_result",
          "data": {
            "text/plain": [
              "[('user_id', 'string'),\n",
              " ('artist_id', 'string'),\n",
              " ('artist_name', 'string'),\n",
              " ('plays', 'double'),\n",
              " ('user_id_index', 'double'),\n",
              " ('artist_id_index', 'double'),\n",
              " ('prediction', 'float')]"
            ]
          },
          "metadata": {
            "tags": []
          },
          "execution_count": 46
        }
      ]
    },
    {
      "metadata": {
        "id": "30dwZ8ed05Lh",
        "colab_type": "code",
        "outputId": "cf739f87-abd9-4862-e92a-129bc715c4f1",
        "colab": {
          "base_uri": "https://localhost:8080/",
          "height": 33
        }
      },
      "cell_type": "code",
      "source": [
        "evaluator = RegressionEvaluator(\n",
        "    metricName=\"rmse\", \n",
        "    labelCol=\"plays\",\n",
        "    predictionCol=\"prediction\"\n",
        ")\n",
        "\n",
        "rmse = evaluator.evaluate(predictions)\n",
        "print(\"Root-mean-square error = \" + str(rmse))"
      ],
      "execution_count": 47,
      "outputs": [
        {
          "output_type": "stream",
          "text": [
            "Root-mean-square error = 190.46601286477002\n"
          ],
          "name": "stdout"
        }
      ]
    },
    {
      "metadata": {
        "id": "0kkxDFhm05Lq",
        "colab_type": "code",
        "colab": {}
      },
      "cell_type": "code",
      "source": [
        ""
      ],
      "execution_count": 0,
      "outputs": []
    },
    {
      "metadata": {
        "id": "Zl8KPwRj05Lx",
        "colab_type": "code",
        "colab": {}
      },
      "cell_type": "code",
      "source": [
        "from pyspark.ml.tuning import CrossValidator, ParamGridBuilder"
      ],
      "execution_count": 0,
      "outputs": []
    },
    {
      "metadata": {
        "id": "b4t4QFGv05MC",
        "colab_type": "code",
        "colab": {}
      },
      "cell_type": "code",
      "source": [
        "als = ALS(\n",
        "\n",
        "    userCol=\"user_id_index\", \n",
        "    itemCol=\"artist_id_index\", \n",
        "    ratingCol=\"plays\",\n",
        "    coldStartStrategy=\"drop\",\n",
        "    implicitPrefs=False,\n",
        "    numUserBlocks=10,\n",
        "    numItemBlocks=10\n",
        "\n",
        ")"
      ],
      "execution_count": 0,
      "outputs": []
    },
    {
      "metadata": {
        "id": "xcxbyMnK05MK",
        "colab_type": "code",
        "colab": {}
      },
      "cell_type": "code",
      "source": [
        "paramGrid = (\n",
        "\n",
        "    ParamGridBuilder()\n",
        "    .addGrid(als.rank, [10, 20, 50, 100])\n",
        "    .addGrid(als.regParam, [0.01, 0.1])\n",
        "    .addGrid(als.maxIter, [5, 10, 20])\n",
        "    .build()\n",
        "\n",
        ")"
      ],
      "execution_count": 0,
      "outputs": []
    },
    {
      "metadata": {
        "id": "uyyj9EdD05MV",
        "colab_type": "code",
        "colab": {}
      },
      "cell_type": "code",
      "source": [
        "pipeline = Pipeline(stages=[indexer_user, indexer_artist])"
      ],
      "execution_count": 0,
      "outputs": []
    },
    {
      "metadata": {
        "id": "an_NrzqWFENp",
        "colab_type": "code",
        "colab": {}
      },
      "cell_type": "code",
      "source": [
        "plays_fit = pipeline.fit(plays)\n",
        "plays_transform = plays_fit.transform(plays)"
      ],
      "execution_count": 0,
      "outputs": []
    },
    {
      "metadata": {
        "id": "ZM79KfzBFYDs",
        "colab_type": "code",
        "colab": {}
      },
      "cell_type": "code",
      "source": [
        "(training, test) = plays_transform.randomSplit([0.8, 0.2], seed=12)"
      ],
      "execution_count": 0,
      "outputs": []
    },
    {
      "metadata": {
        "id": "W4kEBQ8Y05Mg",
        "colab_type": "code",
        "colab": {}
      },
      "cell_type": "code",
      "source": [
        "import time"
      ],
      "execution_count": 0,
      "outputs": []
    },
    {
      "metadata": {
        "id": "lDBjwB1z05Mq",
        "colab_type": "code",
        "colab": {}
      },
      "cell_type": "code",
      "source": [
        "crossval = CrossValidator(\n",
        "\n",
        "    estimator=als,\n",
        "    estimatorParamMaps=paramGrid,\n",
        "    evaluator=evaluator,\n",
        "    numFolds=3\n",
        "\n",
        ") "
      ],
      "execution_count": 0,
      "outputs": []
    },
    {
      "metadata": {
        "id": "Pi8XtUh705Mx",
        "colab_type": "code",
        "colab": {}
      },
      "cell_type": "code",
      "source": [
        "#t0 = time.time()\n",
        "#cvModel = crossval.fit(training)\n",
        "#print(time.time()-t0)"
      ],
      "execution_count": 0,
      "outputs": []
    },
    {
      "metadata": {
        "id": "pGZxYm3pMXTt",
        "colab_type": "code",
        "colab": {}
      },
      "cell_type": "code",
      "source": [
        "#results = [([{key.name: paramValue} for key, paramValue in zip(params.keys(), params.values())], metric) for params, metric in zip(cvModel.getEstimatorParamMaps(), cvModel.avgMetrics)] \n",
        "\n",
        "#list(pd.DataFrame([(results[i][0],results[i][1]) for i in range(len(results))]).sort_values(1).iloc[0])"
      ],
      "execution_count": 0,
      "outputs": []
    },
    {
      "metadata": {
        "id": "oS8gSRFUfGjS",
        "colab_type": "code",
        "colab": {}
      },
      "cell_type": "code",
      "source": [
        ""
      ],
      "execution_count": 0,
      "outputs": []
    },
    {
      "metadata": {
        "id": "sO_dQN22fGnx",
        "colab_type": "code",
        "colab": {}
      },
      "cell_type": "code",
      "source": [
        "paramGrid = (\n",
        "\n",
        "    ParamGridBuilder()\n",
        "    .addGrid(als.rank, [100, 200])\n",
        "    .addGrid(als.regParam, [0.1])\n",
        "    .addGrid(als.maxIter, [20])\n",
        "    .build()\n",
        "\n",
        ")"
      ],
      "execution_count": 0,
      "outputs": []
    },
    {
      "metadata": {
        "id": "y23DInMXfGqk",
        "colab_type": "code",
        "colab": {}
      },
      "cell_type": "code",
      "source": [
        "crossval = CrossValidator(\n",
        "\n",
        "    estimator=als,\n",
        "    estimatorParamMaps=paramGrid,\n",
        "    evaluator=evaluator,\n",
        "    numFolds=3\n",
        ") "
      ],
      "execution_count": 0,
      "outputs": []
    },
    {
      "metadata": {
        "id": "uPNsjaj3fGtR",
        "colab_type": "code",
        "outputId": "1b5e96ce-fc14-4dff-df43-86c197fa8e3b",
        "colab": {
          "base_uri": "https://localhost:8080/",
          "height": 33
        }
      },
      "cell_type": "code",
      "source": [
        "t0 = time.time()\n",
        "cvModel1 = crossval.fit(training)\n",
        "print(time.time()-t0)"
      ],
      "execution_count": 60,
      "outputs": [
        {
          "output_type": "stream",
          "text": [
            "2525.729339838028\n"
          ],
          "name": "stdout"
        }
      ]
    },
    {
      "metadata": {
        "id": "Kyhl116hfR_t",
        "colab_type": "code",
        "colab": {
          "base_uri": "https://localhost:8080/",
          "height": 33
        },
        "outputId": "413058ca-b40f-4472-80a9-87c0bcf60da5"
      },
      "cell_type": "code",
      "source": [
        "results = [([{key.name: paramValue} for key, paramValue in zip(params.keys(), params.values())], metric) for params, metric in zip(cvModel1.getEstimatorParamMaps(), cvModel1.avgMetrics)] \n",
        "\n",
        "list(pd.DataFrame([(results[i][0],results[i][1]) for i in range(len(results))]).sort_values(1).iloc[0])"
      ],
      "execution_count": 61,
      "outputs": [
        {
          "output_type": "execute_result",
          "data": {
            "text/plain": [
              "[[{'rank': 200}, {'regParam': 0.1}, {'maxIter': 20}], 529.9653280484521]"
            ]
          },
          "metadata": {
            "tags": []
          },
          "execution_count": 61
        }
      ]
    },
    {
      "metadata": {
        "id": "BZ9cu12tmOEt",
        "colab_type": "code",
        "colab": {
          "base_uri": "https://localhost:8080/",
          "height": 50
        },
        "outputId": "cab652af-95c7-459c-90b5-72be273b7592"
      },
      "cell_type": "code",
      "source": [
        "results"
      ],
      "execution_count": 63,
      "outputs": [
        {
          "output_type": "execute_result",
          "data": {
            "text/plain": [
              "[([{'rank': 100}, {'regParam': 0.1}, {'maxIter': 20}], 539.8928062228366),\n",
              " ([{'rank': 200}, {'regParam': 0.1}, {'maxIter': 20}], 529.9653280484521)]"
            ]
          },
          "metadata": {
            "tags": []
          },
          "execution_count": 63
        }
      ]
    },
    {
      "metadata": {
        "id": "rWLOhfY0p3MU",
        "colab_type": "code",
        "colab": {
          "base_uri": "https://localhost:8080/",
          "height": 33
        },
        "outputId": "ccb29acc-e71a-4db2-a08f-6a58273ea6ed"
      },
      "cell_type": "code",
      "source": [
        "evaluator = RegressionEvaluator(\n",
        "    metricName=\"rmse\", \n",
        "    labelCol=\"plays\",\n",
        "    predictionCol=\"prediction\"\n",
        ")\n",
        "\n",
        "rmse = evaluator.evaluate(cvModel1.transform(test))\n",
        "print(\"Root-mean-square error = \" + str(rmse))"
      ],
      "execution_count": 72,
      "outputs": [
        {
          "output_type": "stream",
          "text": [
            "Root-mean-square error = 604.303656400679\n"
          ],
          "name": "stdout"
        }
      ]
    },
    {
      "metadata": {
        "id": "Z40Eny1emW69",
        "colab_type": "code",
        "colab": {}
      },
      "cell_type": "code",
      "source": [
        ""
      ],
      "execution_count": 0,
      "outputs": []
    },
    {
      "metadata": {
        "id": "gClKRipqmXBC",
        "colab_type": "code",
        "colab": {}
      },
      "cell_type": "code",
      "source": [
        "Model = ALS(\n",
        "\n",
        "    regParam=0.1, #mallado.iloc[0]['regParam'],\n",
        "    maxIter=20, #mallado.iloc[0]['maxIter'],\n",
        "    rank=200, #mallado.iloc[0]['rank'],    \n",
        "    userCol=\"user_id_index\", \n",
        "    itemCol=\"artist_id_index\", \n",
        "    ratingCol=\"plays\",\n",
        "    coldStartStrategy=\"drop\",\n",
        "    implicitPrefs=False,\n",
        "    numUserBlocks=10,\n",
        "    numItemBlocks=10\n",
        "\n",
        ")"
      ],
      "execution_count": 0,
      "outputs": []
    },
    {
      "metadata": {
        "id": "iVzc5YX8maij",
        "colab_type": "code",
        "colab": {}
      },
      "cell_type": "code",
      "source": [
        "model_fit = Model.fit(training)"
      ],
      "execution_count": 0,
      "outputs": []
    },
    {
      "metadata": {
        "id": "4vCqh_pNmalc",
        "colab_type": "code",
        "colab": {}
      },
      "cell_type": "code",
      "source": [
        "predictions = model_fit.transform(test)"
      ],
      "execution_count": 0,
      "outputs": []
    },
    {
      "metadata": {
        "id": "1esAIhpSmXEC",
        "colab_type": "code",
        "colab": {
          "base_uri": "https://localhost:8080/",
          "height": 33
        },
        "outputId": "4d74e10c-18c4-4159-fc61-82d7b49c9845"
      },
      "cell_type": "code",
      "source": [
        "evaluator = RegressionEvaluator(\n",
        "    metricName=\"rmse\", \n",
        "    labelCol=\"plays\",\n",
        "    predictionCol=\"prediction\"\n",
        ")\n",
        "\n",
        "rmse = evaluator.evaluate(predictions)\n",
        "print(\"Root-mean-square error = \" + str(rmse))"
      ],
      "execution_count": 75,
      "outputs": [
        {
          "output_type": "stream",
          "text": [
            "Root-mean-square error = 604.303656400679\n"
          ],
          "name": "stdout"
        }
      ]
    },
    {
      "metadata": {
        "id": "SW2OvxKDs0Cm",
        "colab_type": "code",
        "colab": {}
      },
      "cell_type": "code",
      "source": [
        ""
      ],
      "execution_count": 0,
      "outputs": []
    },
    {
      "metadata": {
        "id": "dwRHa9E405M5",
        "colab_type": "code",
        "colab": {}
      },
      "cell_type": "code",
      "source": [
        "#sparkSession.stop()"
      ],
      "execution_count": 0,
      "outputs": []
    }
  ]
}